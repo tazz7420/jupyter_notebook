{
 "cells": [
  {
   "cell_type": "code",
   "execution_count": 7,
   "id": "1b10ed6d-d829-4592-8dfe-356b6351e4fe",
   "metadata": {},
   "outputs": [
    {
     "name": "stdout",
     "output_type": "stream",
     "text": [
      "Pandas version:  1.4.3\n",
      "Geopandas version:  0.11.0\n"
     ]
    }
   ],
   "source": [
    "import pandas as pd\n",
    "import geopandas as gpd\n",
    "print('Pandas version: ', pd.__version__)\n",
    "print('Geopandas version: ', gpd.__version__)"
   ]
  },
  {
   "cell_type": "code",
   "execution_count": 8,
   "id": "81834dd5-4804-466a-b133-8168a38002e4",
   "metadata": {},
   "outputs": [
    {
     "name": "stdout",
     "output_type": "stream",
     "text": [
      "<class 'pandas.core.frame.DataFrame'>\n",
      "<class 'pandas.core.frame.DataFrame'>\n",
      "RangeIndex: 156744 entries, 0 to 156743\n",
      "Data columns (total 6 columns):\n",
      " #   Column       Non-Null Count   Dtype \n",
      "---  ------       --------------   ----- \n",
      " 0   Unnamed: 0   156744 non-null  int64 \n",
      " 1   CODEBASE     156744 non-null  object\n",
      " 2   DAY_NIGHT_x  156744 non-null  object\n",
      " 3   CNT_x        156744 non-null  int64 \n",
      " 4   DAY_NIGHT_y  156744 non-null  object\n",
      " 5   CNT_y        156744 non-null  int64 \n",
      "dtypes: int64(3), object(3)\n",
      "memory usage: 7.2+ MB\n"
     ]
    }
   ],
   "source": [
    "df = pd.read_csv(f'./LBD.csv')\n",
    "print(type(df))\n",
    "df.info()"
   ]
  },
  {
   "cell_type": "code",
   "execution_count": 9,
   "id": "51c5c27a-20f8-46bf-bb11-5d3ef3c6c3f8",
   "metadata": {},
   "outputs": [
    {
     "name": "stdout",
     "output_type": "stream",
     "text": [
      "<class 'geopandas.geodataframe.GeoDataFrame'>\n",
      "<class 'geopandas.geodataframe.GeoDataFrame'>\n",
      "RangeIndex: 907 entries, 0 to 906\n",
      "Data columns (total 10 columns):\n",
      " #   Column     Non-Null Count  Dtype   \n",
      "---  ------     --------------  -----   \n",
      " 0   CODE2      907 non-null    object  \n",
      " 1   TOWN_ID    907 non-null    object  \n",
      " 2   TOWN       907 non-null    object  \n",
      " 3   COUNTY_ID  907 non-null    object  \n",
      " 4   COUNTY     907 non-null    object  \n",
      " 5   U_ID       907 non-null    int64   \n",
      " 6   AREA       907 non-null    float64 \n",
      " 7   X          907 non-null    float64 \n",
      " 8   Y          907 non-null    float64 \n",
      " 9   geometry   907 non-null    geometry\n",
      "dtypes: float64(3), geometry(1), int64(1), object(5)\n",
      "memory usage: 71.0+ KB\n"
     ]
    }
   ],
   "source": [
    "gf = gpd.read_file(f'./secondary_release_area/G97_63000_U0202_2015.shp')\n",
    "print(type(gf))\n",
    "gf.info()"
   ]
  },
  {
   "cell_type": "code",
   "execution_count": 10,
   "id": "fab73273-718b-4cd0-b2df-e6afc53854be",
   "metadata": {},
   "outputs": [],
   "source": [
    "gf['CODE2'] = gf['CODE2'].str.slice_replace(5, 6, '-00')\n",
    "gf['CODE2'] = gf['CODE2'].str.replace('-00A', '-010')"
   ]
  },
  {
   "cell_type": "code",
   "execution_count": 11,
   "id": "794b2a10-4e2f-4794-8ab0-9ff4e67658aa",
   "metadata": {},
   "outputs": [
    {
     "name": "stdout",
     "output_type": "stream",
     "text": [
      "<class 'geopandas.geodataframe.GeoDataFrame'>\n",
      "Int64Index: 907 entries, 0 to 906\n",
      "Data columns (total 16 columns):\n",
      " #   Column       Non-Null Count  Dtype   \n",
      "---  ------       --------------  -----   \n",
      " 0   CODE2        907 non-null    object  \n",
      " 1   TOWN_ID      907 non-null    object  \n",
      " 2   TOWN         907 non-null    object  \n",
      " 3   COUNTY_ID    907 non-null    object  \n",
      " 4   COUNTY       907 non-null    object  \n",
      " 5   U_ID         907 non-null    int64   \n",
      " 6   AREA         907 non-null    float64 \n",
      " 7   X            907 non-null    float64 \n",
      " 8   Y            907 non-null    float64 \n",
      " 9   geometry     907 non-null    geometry\n",
      " 10  Unnamed: 0   907 non-null    int64   \n",
      " 11  CODEBASE     907 non-null    object  \n",
      " 12  DAY_NIGHT_x  907 non-null    object  \n",
      " 13  CNT_x        907 non-null    int64   \n",
      " 14  DAY_NIGHT_y  907 non-null    object  \n",
      " 15  CNT_y        907 non-null    int64   \n",
      "dtypes: float64(3), geometry(1), int64(4), object(8)\n",
      "memory usage: 120.5+ KB\n"
     ]
    }
   ],
   "source": [
    "gf1 = gf.merge(df,left_on='CODE2', right_on='CODEBASE')\n",
    "gf1.info()"
   ]
  },
  {
   "cell_type": "code",
   "execution_count": 21,
   "id": "10b94a7f-1f03-490c-a8b2-6a8451aa722e",
   "metadata": {},
   "outputs": [
    {
     "name": "stdout",
     "output_type": "stream",
     "text": [
      "<class 'geopandas.geodataframe.GeoDataFrame'>\n",
      "<class 'geopandas.geodataframe.GeoDataFrame'>\n",
      "RangeIndex: 2 entries, 0 to 1\n",
      "Data columns (total 12 columns):\n",
      " #   Column      Non-Null Count  Dtype   \n",
      "---  ------      --------------  -----   \n",
      " 0   Name        2 non-null      object  \n",
      " 1   descriptio  2 non-null      object  \n",
      " 2   timestamp   0 non-null      object  \n",
      " 3   begin       0 non-null      object  \n",
      " 4   end         0 non-null      object  \n",
      " 5   altitudeMo  0 non-null      object  \n",
      " 6   tessellate  2 non-null      int64   \n",
      " 7   extrude     2 non-null      int64   \n",
      " 8   visibility  2 non-null      int64   \n",
      " 9   drawOrder   0 non-null      object  \n",
      " 10  icon        0 non-null      object  \n",
      " 11  geometry    2 non-null      geometry\n",
      "dtypes: geometry(1), int64(3), object(8)\n",
      "memory usage: 320.0+ bytes\n"
     ]
    }
   ],
   "source": [
    "gf711 = gpd.read_file(f'shapefiles/7-11_2points.shp')\n",
    "print(type(gf711))\n",
    "gf711.info()"
   ]
  },
  {
   "cell_type": "code",
   "execution_count": 22,
   "id": "1bede016-b35d-44f8-84d7-a1e12e84ba48",
   "metadata": {},
   "outputs": [
    {
     "name": "stdout",
     "output_type": "stream",
     "text": [
      "epsg:3826\n",
      "epsg:3826\n"
     ]
    }
   ],
   "source": [
    "print(gf711.crs)\n",
    "print(gf1.crs)"
   ]
  },
  {
   "cell_type": "code",
   "execution_count": 23,
   "id": "308a87a8-8bd7-4c92-badf-8c3aa89cace7",
   "metadata": {},
   "outputs": [
    {
     "data": {
      "text/html": [
       "<div>\n",
       "<style scoped>\n",
       "    .dataframe tbody tr th:only-of-type {\n",
       "        vertical-align: middle;\n",
       "    }\n",
       "\n",
       "    .dataframe tbody tr th {\n",
       "        vertical-align: top;\n",
       "    }\n",
       "\n",
       "    .dataframe thead th {\n",
       "        text-align: right;\n",
       "    }\n",
       "</style>\n",
       "<table border=\"1\" class=\"dataframe\">\n",
       "  <thead>\n",
       "    <tr style=\"text-align: right;\">\n",
       "      <th></th>\n",
       "      <th>Name</th>\n",
       "      <th>descriptio</th>\n",
       "      <th>timestamp</th>\n",
       "      <th>begin</th>\n",
       "      <th>end</th>\n",
       "      <th>altitudeMo</th>\n",
       "      <th>tessellate</th>\n",
       "      <th>extrude</th>\n",
       "      <th>visibility</th>\n",
       "      <th>drawOrder</th>\n",
       "      <th>icon</th>\n",
       "      <th>geometry</th>\n",
       "    </tr>\n",
       "  </thead>\n",
       "  <tbody>\n",
       "    <tr>\n",
       "      <th>0</th>\n",
       "      <td>7-ELEVEN便利商店-鑫台北門市</td>\n",
       "      <td>(02)23312768台北市中正區黎明里忠孝西路一段35號一樓</td>\n",
       "      <td>None</td>\n",
       "      <td>None</td>\n",
       "      <td>None</td>\n",
       "      <td>None</td>\n",
       "      <td>-1</td>\n",
       "      <td>0</td>\n",
       "      <td>-1</td>\n",
       "      <td>None</td>\n",
       "      <td>None</td>\n",
       "      <td>POLYGON ((302815.937 2770995.873, 302813.529 2...</td>\n",
       "    </tr>\n",
       "    <tr>\n",
       "      <th>1</th>\n",
       "      <td>7-ELEVEN便利商店-千成門市</td>\n",
       "      <td>(02)23577481台北市中正區林森南路4號之3</td>\n",
       "      <td>None</td>\n",
       "      <td>None</td>\n",
       "      <td>None</td>\n",
       "      <td>None</td>\n",
       "      <td>-1</td>\n",
       "      <td>0</td>\n",
       "      <td>-1</td>\n",
       "      <td>None</td>\n",
       "      <td>None</td>\n",
       "      <td>POLYGON ((303263.594 2770725.440, 303261.186 2...</td>\n",
       "    </tr>\n",
       "  </tbody>\n",
       "</table>\n",
       "</div>"
      ],
      "text/plain": [
       "                 Name                        descriptio timestamp begin   end  \\\n",
       "0  7-ELEVEN便利商店-鑫台北門市  (02)23312768台北市中正區黎明里忠孝西路一段35號一樓      None  None  None   \n",
       "1   7-ELEVEN便利商店-千成門市        (02)23577481台北市中正區林森南路4號之3      None  None  None   \n",
       "\n",
       "  altitudeMo  tessellate  extrude  visibility drawOrder  icon  \\\n",
       "0       None          -1        0          -1      None  None   \n",
       "1       None          -1        0          -1      None  None   \n",
       "\n",
       "                                            geometry  \n",
       "0  POLYGON ((302815.937 2770995.873, 302813.529 2...  \n",
       "1  POLYGON ((303263.594 2770725.440, 303261.186 2...  "
      ]
     },
     "execution_count": 23,
     "metadata": {},
     "output_type": "execute_result"
    }
   ],
   "source": [
    "gf711_buf = gf711\n",
    "gf711_buf['geometry'] = gf711.buffer(500)\n",
    "gf711_buf.head()"
   ]
  },
  {
   "cell_type": "code",
   "execution_count": 33,
   "id": "f3d551fd-1d34-4dfb-917c-47eb4762970d",
   "metadata": {},
   "outputs": [],
   "source": [
    "intersection = gpd.overlay(gf1,gf711_buf,  how='intersection', keep_geom_type=True)"
   ]
  },
  {
   "cell_type": "code",
   "execution_count": 34,
   "id": "8b62ee29-ba78-4414-89d7-9a07bd7c2224",
   "metadata": {},
   "outputs": [
    {
     "data": {
      "text/plain": [
       "<AxesSubplot:>"
      ]
     },
     "execution_count": 34,
     "metadata": {},
     "output_type": "execute_result"
    },
    {
     "data": {
      "image/png": "[encoded data removed]",
      "text/plain": [
       "<Figure size 432x288 with 1 Axes>"
      ]
     },
     "metadata": {
      "needs_background": "light"
     },
     "output_type": "display_data"
    }
   ],
   "source": [
    "base=gf1.plot(color='b')\n",
    "gf711_buf.plot(ax=base, color='g')\n",
    "intersection.plot(ax=base, color='y')"
   ]
  },
  {
   "cell_type": "code",
   "execution_count": 35,
   "id": "e01a74eb-85e6-40c9-9f5a-7f5b3ffa16e2",
   "metadata": {},
   "outputs": [
    {
     "data": {
      "text/plain": [
       "0      35936.503344\n",
       "1      24769.268317\n",
       "2     314325.244933\n",
       "3      20402.672100\n",
       "4     203476.996341\n",
       "5      91531.846941\n",
       "6      30503.313858\n",
       "7      63191.277376\n",
       "8      10973.758243\n",
       "9      32863.831322\n",
       "10    126908.391144\n",
       "11     79717.017058\n",
       "12     24073.842092\n",
       "13    431121.244612\n",
       "14     26740.261175\n",
       "15      9986.421204\n",
       "16     41752.388113\n",
       "dtype: float64"
      ]
     },
     "execution_count": 35,
     "metadata": {},
     "output_type": "execute_result"
    }
   ],
   "source": [
    "intersection['geometry'].area"
   ]
  },
  {
   "cell_type": "code",
   "execution_count": 37,
   "id": "3e940691-b8ff-4596-9637-cd18dc9918dd",
   "metadata": {},
   "outputs": [
    {
     "name": "stdout",
     "output_type": "stream",
     "text": [
      "<class 'geopandas.geodataframe.GeoDataFrame'>\n",
      "RangeIndex: 17 entries, 0 to 16\n",
      "Data columns (total 27 columns):\n",
      " #   Column       Non-Null Count  Dtype   \n",
      "---  ------       --------------  -----   \n",
      " 0   CODE2        17 non-null     object  \n",
      " 1   TOWN_ID      17 non-null     object  \n",
      " 2   TOWN         17 non-null     object  \n",
      " 3   COUNTY_ID    17 non-null     object  \n",
      " 4   COUNTY       17 non-null     object  \n",
      " 5   U_ID         17 non-null     int64   \n",
      " 6   AREA         17 non-null     float64 \n",
      " 7   X            17 non-null     float64 \n",
      " 8   Y            17 non-null     float64 \n",
      " 9   Unnamed: 0   17 non-null     int64   \n",
      " 10  CODEBASE     17 non-null     object  \n",
      " 11  DAY_NIGHT_x  17 non-null     object  \n",
      " 12  CNT_x        17 non-null     int64   \n",
      " 13  DAY_NIGHT_y  17 non-null     object  \n",
      " 14  CNT_y        17 non-null     int64   \n",
      " 15  Name         17 non-null     object  \n",
      " 16  descriptio   17 non-null     object  \n",
      " 17  timestamp    0 non-null      object  \n",
      " 18  begin        0 non-null      object  \n",
      " 19  end          0 non-null      object  \n",
      " 20  altitudeMo   0 non-null      object  \n",
      " 21  tessellate   17 non-null     int64   \n",
      " 22  extrude      17 non-null     int64   \n",
      " 23  visibility   17 non-null     int64   \n",
      " 24  drawOrder    0 non-null      object  \n",
      " 25  icon         0 non-null      object  \n",
      " 26  geometry     17 non-null     geometry\n",
      "dtypes: float64(3), geometry(1), int64(7), object(16)\n",
      "memory usage: 3.7+ KB\n"
     ]
    }
   ],
   "source": [
    "intersection.info()"
   ]
  },
  {
   "cell_type": "code",
   "execution_count": 38,
   "id": "64ab6763-bbe7-46e4-aadd-a4342539db63",
   "metadata": {},
   "outputs": [
    {
     "data": {
      "text/plain": [
       "0     7-ELEVEN便利商店-鑫台北門市\n",
       "1     7-ELEVEN便利商店-鑫台北門市\n",
       "2     7-ELEVEN便利商店-鑫台北門市\n",
       "3     7-ELEVEN便利商店-鑫台北門市\n",
       "4     7-ELEVEN便利商店-鑫台北門市\n",
       "5     7-ELEVEN便利商店-鑫台北門市\n",
       "6     7-ELEVEN便利商店-鑫台北門市\n",
       "7     7-ELEVEN便利商店-鑫台北門市\n",
       "8      7-ELEVEN便利商店-千成門市\n",
       "9      7-ELEVEN便利商店-千成門市\n",
       "10     7-ELEVEN便利商店-千成門市\n",
       "11     7-ELEVEN便利商店-千成門市\n",
       "12     7-ELEVEN便利商店-千成門市\n",
       "13     7-ELEVEN便利商店-千成門市\n",
       "14     7-ELEVEN便利商店-千成門市\n",
       "15     7-ELEVEN便利商店-千成門市\n",
       "16     7-ELEVEN便利商店-千成門市\n",
       "Name: Name, dtype: object"
      ]
     },
     "execution_count": 38,
     "metadata": {},
     "output_type": "execute_result"
    }
   ],
   "source": [
    "intersection['Name']"
   ]
  },
  {
   "cell_type": "code",
   "execution_count": null,
   "id": "cd3df3d6-1c9c-41ad-901e-d692cafa5c17",
   "metadata": {},
   "outputs": [],
   "source": []
  }
 ],
 "metadata": {
  "kernelspec": {
   "display_name": "Python 3 (ipykernel)",
   "language": "python",
   "name": "python3"
  },
  "language_info": {
   "codemirror_mode": {
    "name": "ipython",
    "version": 3
   },
   "file_extension": ".py",
   "mimetype": "text/x-python",
   "name": "python",
   "nbconvert_exporter": "python",
   "pygments_lexer": "ipython3",
   "version": "3.10.4"
  }
 },
 "nbformat": 4,
 "nbformat_minor": 5
}
