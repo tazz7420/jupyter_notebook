{
 "cells": [
  {
   "cell_type": "code",
   "execution_count": 1,
   "id": "24c885cc-dfb5-4eb5-8ad2-0c64a926faab",
   "metadata": {},
   "outputs": [
    {
     "name": "stdout",
     "output_type": "stream",
     "text": [
      "Pandas version:  1.4.3\n",
      "Geopandas version:  0.11.0\n"
     ]
    }
   ],
   "source": [
    "import pandas as pd\n",
    "import geopandas as gpd\n",
    "print('Pandas version: ', pd.__version__)\n",
    "print('Geopandas version: ', gpd.__version__)"
   ]
  },
  {
   "cell_type": "code",
   "execution_count": 2,
   "id": "492a51e1-d8b6-4183-af0c-e8878f11a8e1",
   "metadata": {},
   "outputs": [
    {
     "name": "stdout",
     "output_type": "stream",
     "text": [
      "<class 'pandas.core.frame.DataFrame'>\n",
      "<class 'pandas.core.frame.DataFrame'>\n",
      "RangeIndex: 313488 entries, 0 to 313487\n",
      "Data columns (total 3 columns):\n",
      " #   Column     Non-Null Count   Dtype \n",
      "---  ------     --------------   ----- \n",
      " 0   CODEBASE   313488 non-null  object\n",
      " 1   DAY_NIGHT  313488 non-null  object\n",
      " 2   CNT        313488 non-null  int64 \n",
      "dtypes: int64(1), object(2)\n",
      "memory usage: 7.2+ MB\n"
     ]
    }
   ],
   "source": [
    "df = pd.read_csv(f'./LOCATION_BASE_DATA.csv')\n",
    "print(type(df))\n",
    "df.info()"
   ]
  },
  {
   "cell_type": "code",
   "execution_count": 3,
   "id": "b5800401-c21b-4d4c-bb35-6dddbcb6c28d",
   "metadata": {},
   "outputs": [
    {
     "data": {
      "text/html": [
       "<div>\n",
       "<style scoped>\n",
       "    .dataframe tbody tr th:only-of-type {\n",
       "        vertical-align: middle;\n",
       "    }\n",
       "\n",
       "    .dataframe tbody tr th {\n",
       "        vertical-align: top;\n",
       "    }\n",
       "\n",
       "    .dataframe thead th {\n",
       "        text-align: right;\n",
       "    }\n",
       "</style>\n",
       "<table border=\"1\" class=\"dataframe\">\n",
       "  <thead>\n",
       "    <tr style=\"text-align: right;\">\n",
       "      <th></th>\n",
       "      <th>CODEBASE</th>\n",
       "      <th>DAY_NIGHT</th>\n",
       "      <th>CNT</th>\n",
       "    </tr>\n",
       "  </thead>\n",
       "  <tbody>\n",
       "    <tr>\n",
       "      <th>0</th>\n",
       "      <td>A6813-0111-00</td>\n",
       "      <td>D</td>\n",
       "      <td>6</td>\n",
       "    </tr>\n",
       "    <tr>\n",
       "      <th>1</th>\n",
       "      <td>A6813-0110-00</td>\n",
       "      <td>D</td>\n",
       "      <td>32</td>\n",
       "    </tr>\n",
       "    <tr>\n",
       "      <th>2</th>\n",
       "      <td>A6813-0109-00</td>\n",
       "      <td>D</td>\n",
       "      <td>20</td>\n",
       "    </tr>\n",
       "    <tr>\n",
       "      <th>3</th>\n",
       "      <td>A6813-0108-00</td>\n",
       "      <td>D</td>\n",
       "      <td>22</td>\n",
       "    </tr>\n",
       "    <tr>\n",
       "      <th>4</th>\n",
       "      <td>A6813-0107-00</td>\n",
       "      <td>D</td>\n",
       "      <td>25</td>\n",
       "    </tr>\n",
       "    <tr>\n",
       "      <th>...</th>\n",
       "      <td>...</td>\n",
       "      <td>...</td>\n",
       "      <td>...</td>\n",
       "    </tr>\n",
       "    <tr>\n",
       "      <th>156739</th>\n",
       "      <td>A0201-0005-00</td>\n",
       "      <td>D</td>\n",
       "      <td>34</td>\n",
       "    </tr>\n",
       "    <tr>\n",
       "      <th>156740</th>\n",
       "      <td>A0201-0004-00</td>\n",
       "      <td>D</td>\n",
       "      <td>566</td>\n",
       "    </tr>\n",
       "    <tr>\n",
       "      <th>156741</th>\n",
       "      <td>A0201-0003-00</td>\n",
       "      <td>D</td>\n",
       "      <td>480</td>\n",
       "    </tr>\n",
       "    <tr>\n",
       "      <th>156742</th>\n",
       "      <td>A0201-0002-00</td>\n",
       "      <td>D</td>\n",
       "      <td>475</td>\n",
       "    </tr>\n",
       "    <tr>\n",
       "      <th>156743</th>\n",
       "      <td>A0201-0001-00</td>\n",
       "      <td>D</td>\n",
       "      <td>1</td>\n",
       "    </tr>\n",
       "  </tbody>\n",
       "</table>\n",
       "<p>156744 rows × 3 columns</p>\n",
       "</div>"
      ],
      "text/plain": [
       "             CODEBASE DAY_NIGHT  CNT\n",
       "0       A6813-0111-00         D    6\n",
       "1       A6813-0110-00         D   32\n",
       "2       A6813-0109-00         D   20\n",
       "3       A6813-0108-00         D   22\n",
       "4       A6813-0107-00         D   25\n",
       "...               ...       ...  ...\n",
       "156739  A0201-0005-00         D   34\n",
       "156740  A0201-0004-00         D  566\n",
       "156741  A0201-0003-00         D  480\n",
       "156742  A0201-0002-00         D  475\n",
       "156743  A0201-0001-00         D    1\n",
       "\n",
       "[156744 rows x 3 columns]"
      ]
     },
     "execution_count": 3,
     "metadata": {},
     "output_type": "execute_result"
    }
   ],
   "source": [
    "df1 = df.iloc[0:156744]\n",
    "df1"
   ]
  },
  {
   "cell_type": "code",
   "execution_count": 4,
   "id": "c3a5a6ff-05e3-48db-9531-4e0f8b0cc058",
   "metadata": {},
   "outputs": [
    {
     "data": {
      "text/html": [
       "<div>\n",
       "<style scoped>\n",
       "    .dataframe tbody tr th:only-of-type {\n",
       "        vertical-align: middle;\n",
       "    }\n",
       "\n",
       "    .dataframe tbody tr th {\n",
       "        vertical-align: top;\n",
       "    }\n",
       "\n",
       "    .dataframe thead th {\n",
       "        text-align: right;\n",
       "    }\n",
       "</style>\n",
       "<table border=\"1\" class=\"dataframe\">\n",
       "  <thead>\n",
       "    <tr style=\"text-align: right;\">\n",
       "      <th></th>\n",
       "      <th>CODEBASE</th>\n",
       "      <th>DAY_NIGHT</th>\n",
       "      <th>CNT</th>\n",
       "    </tr>\n",
       "  </thead>\n",
       "  <tbody>\n",
       "    <tr>\n",
       "      <th>156744</th>\n",
       "      <td>A6813-0111-00</td>\n",
       "      <td>N</td>\n",
       "      <td>81</td>\n",
       "    </tr>\n",
       "    <tr>\n",
       "      <th>156745</th>\n",
       "      <td>A6813-0110-00</td>\n",
       "      <td>N</td>\n",
       "      <td>55</td>\n",
       "    </tr>\n",
       "    <tr>\n",
       "      <th>156746</th>\n",
       "      <td>A6813-0109-00</td>\n",
       "      <td>N</td>\n",
       "      <td>46</td>\n",
       "    </tr>\n",
       "    <tr>\n",
       "      <th>156747</th>\n",
       "      <td>A6813-0108-00</td>\n",
       "      <td>N</td>\n",
       "      <td>98</td>\n",
       "    </tr>\n",
       "    <tr>\n",
       "      <th>156748</th>\n",
       "      <td>A6813-0107-00</td>\n",
       "      <td>N</td>\n",
       "      <td>53</td>\n",
       "    </tr>\n",
       "    <tr>\n",
       "      <th>...</th>\n",
       "      <td>...</td>\n",
       "      <td>...</td>\n",
       "      <td>...</td>\n",
       "    </tr>\n",
       "    <tr>\n",
       "      <th>313483</th>\n",
       "      <td>A0201-0005-00</td>\n",
       "      <td>N</td>\n",
       "      <td>62</td>\n",
       "    </tr>\n",
       "    <tr>\n",
       "      <th>313484</th>\n",
       "      <td>A0201-0004-00</td>\n",
       "      <td>N</td>\n",
       "      <td>19</td>\n",
       "    </tr>\n",
       "    <tr>\n",
       "      <th>313485</th>\n",
       "      <td>A0201-0003-00</td>\n",
       "      <td>N</td>\n",
       "      <td>145</td>\n",
       "    </tr>\n",
       "    <tr>\n",
       "      <th>313486</th>\n",
       "      <td>A0201-0002-00</td>\n",
       "      <td>N</td>\n",
       "      <td>3</td>\n",
       "    </tr>\n",
       "    <tr>\n",
       "      <th>313487</th>\n",
       "      <td>A0201-0001-00</td>\n",
       "      <td>N</td>\n",
       "      <td>0</td>\n",
       "    </tr>\n",
       "  </tbody>\n",
       "</table>\n",
       "<p>156744 rows × 3 columns</p>\n",
       "</div>"
      ],
      "text/plain": [
       "             CODEBASE DAY_NIGHT  CNT\n",
       "156744  A6813-0111-00         N   81\n",
       "156745  A6813-0110-00         N   55\n",
       "156746  A6813-0109-00         N   46\n",
       "156747  A6813-0108-00         N   98\n",
       "156748  A6813-0107-00         N   53\n",
       "...               ...       ...  ...\n",
       "313483  A0201-0005-00         N   62\n",
       "313484  A0201-0004-00         N   19\n",
       "313485  A0201-0003-00         N  145\n",
       "313486  A0201-0002-00         N    3\n",
       "313487  A0201-0001-00         N    0\n",
       "\n",
       "[156744 rows x 3 columns]"
      ]
     },
     "execution_count": 4,
     "metadata": {},
     "output_type": "execute_result"
    }
   ],
   "source": [
    "df2 = df.iloc[156744:]\n",
    "df2"
   ]
  },
  {
   "cell_type": "code",
   "execution_count": 5,
   "id": "52a86bcb-e6c5-4b77-9af5-65286d1d8ce6",
   "metadata": {},
   "outputs": [
    {
     "data": {
      "text/html": [
       "<div>\n",
       "<style scoped>\n",
       "    .dataframe tbody tr th:only-of-type {\n",
       "        vertical-align: middle;\n",
       "    }\n",
       "\n",
       "    .dataframe tbody tr th {\n",
       "        vertical-align: top;\n",
       "    }\n",
       "\n",
       "    .dataframe thead th {\n",
       "        text-align: right;\n",
       "    }\n",
       "</style>\n",
       "<table border=\"1\" class=\"dataframe\">\n",
       "  <thead>\n",
       "    <tr style=\"text-align: right;\">\n",
       "      <th></th>\n",
       "      <th>CODEBASE</th>\n",
       "      <th>DAY_NIGHT</th>\n",
       "      <th>CNT</th>\n",
       "    </tr>\n",
       "  </thead>\n",
       "  <tbody>\n",
       "    <tr>\n",
       "      <th>0</th>\n",
       "      <td>A6813-0111-00</td>\n",
       "      <td>D</td>\n",
       "      <td>6</td>\n",
       "    </tr>\n",
       "  </tbody>\n",
       "</table>\n",
       "</div>"
      ],
      "text/plain": [
       "        CODEBASE DAY_NIGHT  CNT\n",
       "0  A6813-0111-00         D    6"
      ]
     },
     "execution_count": 5,
     "metadata": {},
     "output_type": "execute_result"
    }
   ],
   "source": [
    "df1.query('CODEBASE == \"A6813-0111-00\"')"
   ]
  },
  {
   "cell_type": "code",
   "execution_count": 6,
   "id": "225269af-a7de-4b4a-b6d7-b7908b7553c6",
   "metadata": {},
   "outputs": [
    {
     "data": {
      "text/plain": [
       "count    156744.000000\n",
       "mean        151.086855\n",
       "std         362.319035\n",
       "min           0.000000\n",
       "25%           7.000000\n",
       "50%          47.000000\n",
       "75%         173.000000\n",
       "max       18499.000000\n",
       "Name: CNT, dtype: float64"
      ]
     },
     "execution_count": 6,
     "metadata": {},
     "output_type": "execute_result"
    }
   ],
   "source": [
    "df1.CNT.describe()"
   ]
  },
  {
   "cell_type": "code",
   "execution_count": 7,
   "id": "cdc979fa-fa2b-457a-b8a5-6e83aa02afee",
   "metadata": {},
   "outputs": [
    {
     "data": {
      "text/html": [
       "<div>\n",
       "<style scoped>\n",
       "    .dataframe tbody tr th:only-of-type {\n",
       "        vertical-align: middle;\n",
       "    }\n",
       "\n",
       "    .dataframe tbody tr th {\n",
       "        vertical-align: top;\n",
       "    }\n",
       "\n",
       "    .dataframe thead th {\n",
       "        text-align: right;\n",
       "    }\n",
       "</style>\n",
       "<table border=\"1\" class=\"dataframe\">\n",
       "  <thead>\n",
       "    <tr style=\"text-align: right;\">\n",
       "      <th></th>\n",
       "      <th>CODEBASE</th>\n",
       "      <th>DAY_NIGHT_x</th>\n",
       "      <th>CNT_x</th>\n",
       "      <th>DAY_NIGHT_y</th>\n",
       "      <th>CNT_y</th>\n",
       "    </tr>\n",
       "  </thead>\n",
       "  <tbody>\n",
       "    <tr>\n",
       "      <th>0</th>\n",
       "      <td>A6813-0111</td>\n",
       "      <td>D</td>\n",
       "      <td>6</td>\n",
       "      <td>N</td>\n",
       "      <td>81</td>\n",
       "    </tr>\n",
       "    <tr>\n",
       "      <th>1</th>\n",
       "      <td>A6813-0110</td>\n",
       "      <td>D</td>\n",
       "      <td>32</td>\n",
       "      <td>N</td>\n",
       "      <td>55</td>\n",
       "    </tr>\n",
       "    <tr>\n",
       "      <th>2</th>\n",
       "      <td>A6813-0109</td>\n",
       "      <td>D</td>\n",
       "      <td>20</td>\n",
       "      <td>N</td>\n",
       "      <td>46</td>\n",
       "    </tr>\n",
       "    <tr>\n",
       "      <th>3</th>\n",
       "      <td>A6813-0108</td>\n",
       "      <td>D</td>\n",
       "      <td>22</td>\n",
       "      <td>N</td>\n",
       "      <td>98</td>\n",
       "    </tr>\n",
       "    <tr>\n",
       "      <th>4</th>\n",
       "      <td>A6813-0107</td>\n",
       "      <td>D</td>\n",
       "      <td>25</td>\n",
       "      <td>N</td>\n",
       "      <td>53</td>\n",
       "    </tr>\n",
       "    <tr>\n",
       "      <th>...</th>\n",
       "      <td>...</td>\n",
       "      <td>...</td>\n",
       "      <td>...</td>\n",
       "      <td>...</td>\n",
       "      <td>...</td>\n",
       "    </tr>\n",
       "    <tr>\n",
       "      <th>156739</th>\n",
       "      <td>A0201-0005</td>\n",
       "      <td>D</td>\n",
       "      <td>34</td>\n",
       "      <td>N</td>\n",
       "      <td>62</td>\n",
       "    </tr>\n",
       "    <tr>\n",
       "      <th>156740</th>\n",
       "      <td>A0201-0004</td>\n",
       "      <td>D</td>\n",
       "      <td>566</td>\n",
       "      <td>N</td>\n",
       "      <td>19</td>\n",
       "    </tr>\n",
       "    <tr>\n",
       "      <th>156741</th>\n",
       "      <td>A0201-0003</td>\n",
       "      <td>D</td>\n",
       "      <td>480</td>\n",
       "      <td>N</td>\n",
       "      <td>145</td>\n",
       "    </tr>\n",
       "    <tr>\n",
       "      <th>156742</th>\n",
       "      <td>A0201-0002</td>\n",
       "      <td>D</td>\n",
       "      <td>475</td>\n",
       "      <td>N</td>\n",
       "      <td>3</td>\n",
       "    </tr>\n",
       "    <tr>\n",
       "      <th>156743</th>\n",
       "      <td>A0201-0001</td>\n",
       "      <td>D</td>\n",
       "      <td>1</td>\n",
       "      <td>N</td>\n",
       "      <td>0</td>\n",
       "    </tr>\n",
       "  </tbody>\n",
       "</table>\n",
       "<p>156744 rows × 5 columns</p>\n",
       "</div>"
      ],
      "text/plain": [
       "          CODEBASE DAY_NIGHT_x  CNT_x DAY_NIGHT_y  CNT_y\n",
       "0       A6813-0111           D      6           N     81\n",
       "1       A6813-0110           D     32           N     55\n",
       "2       A6813-0109           D     20           N     46\n",
       "3       A6813-0108           D     22           N     98\n",
       "4       A6813-0107           D     25           N     53\n",
       "...            ...         ...    ...         ...    ...\n",
       "156739  A0201-0005           D     34           N     62\n",
       "156740  A0201-0004           D    566           N     19\n",
       "156741  A0201-0003           D    480           N    145\n",
       "156742  A0201-0002           D    475           N      3\n",
       "156743  A0201-0001           D      1           N      0\n",
       "\n",
       "[156744 rows x 5 columns]"
      ]
     },
     "execution_count": 7,
     "metadata": {},
     "output_type": "execute_result"
    }
   ],
   "source": [
    "df3 = pd.merge(df1, df2,left_on='CODEBASE', right_on='CODEBASE')\n",
    "df3['CODEBASE'] = df3['CODEBASE'].str[0:10]\n",
    "df3"
   ]
  },
  {
   "cell_type": "code",
   "execution_count": 8,
   "id": "6fac75bd-b513-40bd-8ab9-7ae333b983ba",
   "metadata": {},
   "outputs": [],
   "source": [
    "df3.to_csv('LBD.csv')"
   ]
  },
  {
   "cell_type": "code",
   "execution_count": 9,
   "id": "4b803eb0-1e53-4eca-b97b-b014f1a2404d",
   "metadata": {},
   "outputs": [
    {
     "name": "stdout",
     "output_type": "stream",
     "text": [
      "<class 'geopandas.geodataframe.GeoDataFrame'>\n",
      "<class 'geopandas.geodataframe.GeoDataFrame'>\n",
      "RangeIndex: 907 entries, 0 to 906\n",
      "Data columns (total 10 columns):\n",
      " #   Column     Non-Null Count  Dtype   \n",
      "---  ------     --------------  -----   \n",
      " 0   CODE2      907 non-null    object  \n",
      " 1   TOWN_ID    907 non-null    object  \n",
      " 2   TOWN       907 non-null    object  \n",
      " 3   COUNTY_ID  907 non-null    object  \n",
      " 4   COUNTY     907 non-null    object  \n",
      " 5   U_ID       907 non-null    int64   \n",
      " 6   AREA       907 non-null    float64 \n",
      " 7   X          907 non-null    float64 \n",
      " 8   Y          907 non-null    float64 \n",
      " 9   geometry   907 non-null    geometry\n",
      "dtypes: float64(3), geometry(1), int64(1), object(5)\n",
      "memory usage: 71.0+ KB\n"
     ]
    }
   ],
   "source": [
    "gf = gpd.read_file(f'./secondary_release_area/G97_63000_U0202_2015.shp')\n",
    "print(type(gf))\n",
    "gf.info()"
   ]
  },
  {
   "cell_type": "code",
   "execution_count": 10,
   "id": "9cbb9b79-4f16-4cdc-9f01-5c1db2e5c85f",
   "metadata": {},
   "outputs": [
    {
     "name": "stdout",
     "output_type": "stream",
     "text": [
      "<class 'geopandas.geodataframe.GeoDataFrame'>\n"
     ]
    },
    {
     "data": {
      "text/plain": [
       "<Derived Projected CRS: EPSG:3826>\n",
       "Name: TWD97 / TM2 zone 121\n",
       "Axis Info [cartesian]:\n",
       "- X[east]: Easting (metre)\n",
       "- Y[north]: Northing (metre)\n",
       "Area of Use:\n",
       "- name: Taiwan, Republic of China - between 120°E and 122°E, onshore and offshore - Taiwan Island.\n",
       "- bounds: (119.99, 20.41, 122.06, 26.72)\n",
       "Coordinate Operation:\n",
       "- name: Taiwan 2-degree TM zone 121\n",
       "- method: Transverse Mercator\n",
       "Datum: Taiwan Datum 1997\n",
       "- Ellipsoid: GRS 1980\n",
       "- Prime Meridian: Greenwich"
      ]
     },
     "execution_count": 10,
     "metadata": {},
     "output_type": "execute_result"
    }
   ],
   "source": [
    "print(type(gf))\n",
    "gf.crs"
   ]
  },
  {
   "cell_type": "code",
   "execution_count": 11,
   "id": "dcb32e0e-d021-4527-83be-79933b99bb2b",
   "metadata": {},
   "outputs": [
    {
     "data": {
      "text/plain": [
       "<AxesSubplot:>"
      ]
     },
     "execution_count": 11,
     "metadata": {},
     "output_type": "execute_result"
    },
    {
     "data": {
      "image/png": "[encoded data removed]",
      "text/plain": [
       "<Figure size 432x288 with 1 Axes>"
      ]
     },
     "metadata": {
      "needs_background": "light"
     },
     "output_type": "display_data"
    }
   ],
   "source": [
    "gf.plot()"
   ]
  },
  {
   "cell_type": "code",
   "execution_count": 12,
   "id": "32867fc3-d985-47d9-8a23-968d7dc8311e",
   "metadata": {},
   "outputs": [
    {
     "data": {
      "text/html": [
       "<div>\n",
       "<style scoped>\n",
       "    .dataframe tbody tr th:only-of-type {\n",
       "        vertical-align: middle;\n",
       "    }\n",
       "\n",
       "    .dataframe tbody tr th {\n",
       "        vertical-align: top;\n",
       "    }\n",
       "\n",
       "    .dataframe thead th {\n",
       "        text-align: right;\n",
       "    }\n",
       "</style>\n",
       "<table border=\"1\" class=\"dataframe\">\n",
       "  <thead>\n",
       "    <tr style=\"text-align: right;\">\n",
       "      <th></th>\n",
       "      <th>CODE2</th>\n",
       "      <th>TOWN_ID</th>\n",
       "      <th>TOWN</th>\n",
       "      <th>COUNTY_ID</th>\n",
       "      <th>COUNTY</th>\n",
       "      <th>U_ID</th>\n",
       "      <th>AREA</th>\n",
       "      <th>X</th>\n",
       "      <th>Y</th>\n",
       "      <th>geometry</th>\n",
       "    </tr>\n",
       "  </thead>\n",
       "  <tbody>\n",
       "    <tr>\n",
       "      <th>0</th>\n",
       "      <td>A6307-49</td>\n",
       "      <td>63000070</td>\n",
       "      <td>萬華區</td>\n",
       "      <td>63000</td>\n",
       "      <td>臺北市</td>\n",
       "      <td>8030</td>\n",
       "      <td>45192.3475</td>\n",
       "      <td>300616.5314</td>\n",
       "      <td>2.768631e+06</td>\n",
       "      <td>POLYGON Z ((300566.807 2768736.586 0.000, 3005...</td>\n",
       "    </tr>\n",
       "    <tr>\n",
       "      <th>1</th>\n",
       "      <td>A6307-50</td>\n",
       "      <td>63000070</td>\n",
       "      <td>萬華區</td>\n",
       "      <td>63000</td>\n",
       "      <td>臺北市</td>\n",
       "      <td>8031</td>\n",
       "      <td>23374.0335</td>\n",
       "      <td>301306.3694</td>\n",
       "      <td>2.768613e+06</td>\n",
       "      <td>POLYGON Z ((301368.508 2768469.371 0.000, 3013...</td>\n",
       "    </tr>\n",
       "    <tr>\n",
       "      <th>2</th>\n",
       "      <td>A6307-51</td>\n",
       "      <td>63000070</td>\n",
       "      <td>萬華區</td>\n",
       "      <td>63000</td>\n",
       "      <td>臺北市</td>\n",
       "      <td>8032</td>\n",
       "      <td>55970.8940</td>\n",
       "      <td>299682.3157</td>\n",
       "      <td>2.768561e+06</td>\n",
       "      <td>POLYGON Z ((299612.321 2768390.814 0.000, 2996...</td>\n",
       "    </tr>\n",
       "    <tr>\n",
       "      <th>3</th>\n",
       "      <td>A6307-52</td>\n",
       "      <td>63000070</td>\n",
       "      <td>萬華區</td>\n",
       "      <td>63000</td>\n",
       "      <td>臺北市</td>\n",
       "      <td>8033</td>\n",
       "      <td>42502.0535</td>\n",
       "      <td>301489.1122</td>\n",
       "      <td>2.768526e+06</td>\n",
       "      <td>POLYGON Z ((301346.821 2768415.862 0.000, 3013...</td>\n",
       "    </tr>\n",
       "    <tr>\n",
       "      <th>4</th>\n",
       "      <td>A6307-53</td>\n",
       "      <td>63000070</td>\n",
       "      <td>萬華區</td>\n",
       "      <td>63000</td>\n",
       "      <td>臺北市</td>\n",
       "      <td>8034</td>\n",
       "      <td>58070.4139</td>\n",
       "      <td>299822.5776</td>\n",
       "      <td>2.768472e+06</td>\n",
       "      <td>POLYGON Z ((299877.221 2768576.558 0.000, 2998...</td>\n",
       "    </tr>\n",
       "    <tr>\n",
       "      <th>...</th>\n",
       "      <td>...</td>\n",
       "      <td>...</td>\n",
       "      <td>...</td>\n",
       "      <td>...</td>\n",
       "      <td>...</td>\n",
       "      <td>...</td>\n",
       "      <td>...</td>\n",
       "      <td>...</td>\n",
       "      <td>...</td>\n",
       "      <td>...</td>\n",
       "    </tr>\n",
       "    <tr>\n",
       "      <th>902</th>\n",
       "      <td>A6311-86</td>\n",
       "      <td>63000110</td>\n",
       "      <td>士林區</td>\n",
       "      <td>63000</td>\n",
       "      <td>臺北市</td>\n",
       "      <td>8351</td>\n",
       "      <td>35859.0741</td>\n",
       "      <td>302279.5338</td>\n",
       "      <td>2.775226e+06</td>\n",
       "      <td>POLYGON Z ((302178.644 2775330.533 0.000, 3022...</td>\n",
       "    </tr>\n",
       "    <tr>\n",
       "      <th>903</th>\n",
       "      <td>A6311-87</td>\n",
       "      <td>63000110</td>\n",
       "      <td>士林區</td>\n",
       "      <td>63000</td>\n",
       "      <td>臺北市</td>\n",
       "      <td>8352</td>\n",
       "      <td>47087.8486</td>\n",
       "      <td>302582.6669</td>\n",
       "      <td>2.775213e+06</td>\n",
       "      <td>POLYGON Z ((302664.820 2775264.350 0.000, 3026...</td>\n",
       "    </tr>\n",
       "    <tr>\n",
       "      <th>904</th>\n",
       "      <td>A6311-88</td>\n",
       "      <td>63000110</td>\n",
       "      <td>士林區</td>\n",
       "      <td>63000</td>\n",
       "      <td>臺北市</td>\n",
       "      <td>8353</td>\n",
       "      <td>39345.0806</td>\n",
       "      <td>302150.7632</td>\n",
       "      <td>2.775133e+06</td>\n",
       "      <td>POLYGON Z ((302126.171 2775317.172 0.000, 3021...</td>\n",
       "    </tr>\n",
       "    <tr>\n",
       "      <th>905</th>\n",
       "      <td>A6311-89</td>\n",
       "      <td>63000110</td>\n",
       "      <td>士林區</td>\n",
       "      <td>63000</td>\n",
       "      <td>臺北市</td>\n",
       "      <td>8354</td>\n",
       "      <td>120823.0105</td>\n",
       "      <td>301703.0634</td>\n",
       "      <td>2.775071e+06</td>\n",
       "      <td>POLYGON Z ((301899.830 2774758.581 0.000, 3019...</td>\n",
       "    </tr>\n",
       "    <tr>\n",
       "      <th>906</th>\n",
       "      <td>A6311-90</td>\n",
       "      <td>63000110</td>\n",
       "      <td>士林區</td>\n",
       "      <td>63000</td>\n",
       "      <td>臺北市</td>\n",
       "      <td>8355</td>\n",
       "      <td>37928.1254</td>\n",
       "      <td>302352.3728</td>\n",
       "      <td>2.775076e+06</td>\n",
       "      <td>POLYGON Z ((302300.758 2775142.112 0.000, 3023...</td>\n",
       "    </tr>\n",
       "  </tbody>\n",
       "</table>\n",
       "<p>907 rows × 10 columns</p>\n",
       "</div>"
      ],
      "text/plain": [
       "        CODE2   TOWN_ID TOWN COUNTY_ID COUNTY  U_ID         AREA            X  \\\n",
       "0    A6307-49  63000070  萬華區     63000    臺北市  8030   45192.3475  300616.5314   \n",
       "1    A6307-50  63000070  萬華區     63000    臺北市  8031   23374.0335  301306.3694   \n",
       "2    A6307-51  63000070  萬華區     63000    臺北市  8032   55970.8940  299682.3157   \n",
       "3    A6307-52  63000070  萬華區     63000    臺北市  8033   42502.0535  301489.1122   \n",
       "4    A6307-53  63000070  萬華區     63000    臺北市  8034   58070.4139  299822.5776   \n",
       "..        ...       ...  ...       ...    ...   ...          ...          ...   \n",
       "902  A6311-86  63000110  士林區     63000    臺北市  8351   35859.0741  302279.5338   \n",
       "903  A6311-87  63000110  士林區     63000    臺北市  8352   47087.8486  302582.6669   \n",
       "904  A6311-88  63000110  士林區     63000    臺北市  8353   39345.0806  302150.7632   \n",
       "905  A6311-89  63000110  士林區     63000    臺北市  8354  120823.0105  301703.0634   \n",
       "906  A6311-90  63000110  士林區     63000    臺北市  8355   37928.1254  302352.3728   \n",
       "\n",
       "                Y                                           geometry  \n",
       "0    2.768631e+06  POLYGON Z ((300566.807 2768736.586 0.000, 3005...  \n",
       "1    2.768613e+06  POLYGON Z ((301368.508 2768469.371 0.000, 3013...  \n",
       "2    2.768561e+06  POLYGON Z ((299612.321 2768390.814 0.000, 2996...  \n",
       "3    2.768526e+06  POLYGON Z ((301346.821 2768415.862 0.000, 3013...  \n",
       "4    2.768472e+06  POLYGON Z ((299877.221 2768576.558 0.000, 2998...  \n",
       "..            ...                                                ...  \n",
       "902  2.775226e+06  POLYGON Z ((302178.644 2775330.533 0.000, 3022...  \n",
       "903  2.775213e+06  POLYGON Z ((302664.820 2775264.350 0.000, 3026...  \n",
       "904  2.775133e+06  POLYGON Z ((302126.171 2775317.172 0.000, 3021...  \n",
       "905  2.775071e+06  POLYGON Z ((301899.830 2774758.581 0.000, 3019...  \n",
       "906  2.775076e+06  POLYGON Z ((302300.758 2775142.112 0.000, 3023...  \n",
       "\n",
       "[907 rows x 10 columns]"
      ]
     },
     "execution_count": 12,
     "metadata": {},
     "output_type": "execute_result"
    }
   ],
   "source": [
    "gf"
   ]
  },
  {
   "cell_type": "code",
   "execution_count": 13,
   "id": "743895c1-cd7e-4c77-975d-6bfdc1a64b48",
   "metadata": {},
   "outputs": [],
   "source": [
    "gf['CODE2'] = gf['CODE2'].str.slice_replace(5, 6, '-00')"
   ]
  },
  {
   "cell_type": "code",
   "execution_count": 14,
   "id": "65bcc647-e2e5-4e06-8175-cdb807c159fb",
   "metadata": {},
   "outputs": [],
   "source": [
    "gf['CODE2'] = gf['CODE2'].str.replace('-00A', '-010')"
   ]
  },
  {
   "cell_type": "code",
   "execution_count": 15,
   "id": "137dc1be-9f2e-4596-94a4-8a3eb67bf32f",
   "metadata": {},
   "outputs": [
    {
     "data": {
      "text/html": [
       "<div>\n",
       "<style scoped>\n",
       "    .dataframe tbody tr th:only-of-type {\n",
       "        vertical-align: middle;\n",
       "    }\n",
       "\n",
       "    .dataframe tbody tr th {\n",
       "        vertical-align: top;\n",
       "    }\n",
       "\n",
       "    .dataframe thead th {\n",
       "        text-align: right;\n",
       "    }\n",
       "</style>\n",
       "<table border=\"1\" class=\"dataframe\">\n",
       "  <thead>\n",
       "    <tr style=\"text-align: right;\">\n",
       "      <th></th>\n",
       "      <th>CODE2</th>\n",
       "      <th>TOWN_ID</th>\n",
       "      <th>TOWN</th>\n",
       "      <th>COUNTY_ID</th>\n",
       "      <th>COUNTY</th>\n",
       "      <th>U_ID</th>\n",
       "      <th>AREA</th>\n",
       "      <th>X</th>\n",
       "      <th>Y</th>\n",
       "      <th>geometry</th>\n",
       "    </tr>\n",
       "  </thead>\n",
       "  <tbody>\n",
       "    <tr>\n",
       "      <th>352</th>\n",
       "      <td>A6303-0101</td>\n",
       "      <td>63000030</td>\n",
       "      <td>大安區</td>\n",
       "      <td>63000</td>\n",
       "      <td>臺北市</td>\n",
       "      <td>7795</td>\n",
       "      <td>57860.5734</td>\n",
       "      <td>306172.7795</td>\n",
       "      <td>2.768005e+06</td>\n",
       "      <td>POLYGON Z ((306352.397 2767940.951 0.000, 3063...</td>\n",
       "    </tr>\n",
       "  </tbody>\n",
       "</table>\n",
       "</div>"
      ],
      "text/plain": [
       "          CODE2   TOWN_ID TOWN COUNTY_ID COUNTY  U_ID        AREA  \\\n",
       "352  A6303-0101  63000030  大安區     63000    臺北市  7795  57860.5734   \n",
       "\n",
       "               X             Y  \\\n",
       "352  306172.7795  2.768005e+06   \n",
       "\n",
       "                                              geometry  \n",
       "352  POLYGON Z ((306352.397 2767940.951 0.000, 3063...  "
      ]
     },
     "execution_count": 15,
     "metadata": {},
     "output_type": "execute_result"
    }
   ],
   "source": [
    "gf.query('CODE2 == \"A6303-0101\"')"
   ]
  },
  {
   "cell_type": "code",
   "execution_count": 16,
   "id": "3cbbae6b-18e6-4cba-9638-f975d6bb705f",
   "metadata": {},
   "outputs": [
    {
     "name": "stdout",
     "output_type": "stream",
     "text": [
      "<class 'geopandas.geodataframe.GeoDataFrame'>\n",
      "Int64Index: 907 entries, 0 to 906\n",
      "Data columns (total 15 columns):\n",
      " #   Column       Non-Null Count  Dtype   \n",
      "---  ------       --------------  -----   \n",
      " 0   CODE2        907 non-null    object  \n",
      " 1   TOWN_ID      907 non-null    object  \n",
      " 2   TOWN         907 non-null    object  \n",
      " 3   COUNTY_ID    907 non-null    object  \n",
      " 4   COUNTY       907 non-null    object  \n",
      " 5   U_ID         907 non-null    int64   \n",
      " 6   AREA         907 non-null    float64 \n",
      " 7   X            907 non-null    float64 \n",
      " 8   Y            907 non-null    float64 \n",
      " 9   geometry     907 non-null    geometry\n",
      " 10  CODEBASE     907 non-null    object  \n",
      " 11  DAY_NIGHT_x  907 non-null    object  \n",
      " 12  CNT_x        907 non-null    int64   \n",
      " 13  DAY_NIGHT_y  907 non-null    object  \n",
      " 14  CNT_y        907 non-null    int64   \n",
      "dtypes: float64(3), geometry(1), int64(3), object(8)\n",
      "memory usage: 113.4+ KB\n"
     ]
    }
   ],
   "source": [
    "gf1 = gf.merge(df3,left_on='CODE2', right_on='CODEBASE')\n",
    "gf1.info()"
   ]
  },
  {
   "cell_type": "code",
   "execution_count": 53,
   "id": "af599ccc-ce20-46ff-90bb-bb5a507ad776",
   "metadata": {},
   "outputs": [
    {
     "data": {
      "text/plain": [
       "<AxesSubplot:>"
      ]
     },
     "execution_count": 53,
     "metadata": {},
     "output_type": "execute_result"
    },
    {
     "data": {
      "image/png": "[encoded data removed]",
      "text/plain": [
       "<Figure size 432x288 with 1 Axes>"
      ]
     },
     "metadata": {
      "needs_background": "light"
     },
     "output_type": "display_data"
    }
   ],
   "source": [
    "gf1.plot()"
   ]
  },
  {
   "cell_type": "code",
   "execution_count": 55,
   "id": "52a00ed3-e20b-470b-b277-eaf2c4e5e5f4",
   "metadata": {},
   "outputs": [
    {
     "data": {
      "text/plain": [
       "<Derived Projected CRS: EPSG:3826>\n",
       "Name: TWD97 / TM2 zone 121\n",
       "Axis Info [cartesian]:\n",
       "- X[east]: Easting (metre)\n",
       "- Y[north]: Northing (metre)\n",
       "Area of Use:\n",
       "- name: Taiwan, Republic of China - between 120°E and 122°E, onshore and offshore - Taiwan Island.\n",
       "- bounds: (119.99, 20.41, 122.06, 26.72)\n",
       "Coordinate Operation:\n",
       "- name: Taiwan 2-degree TM zone 121\n",
       "- method: Transverse Mercator\n",
       "Datum: Taiwan Datum 1997\n",
       "- Ellipsoid: GRS 1980\n",
       "- Prime Meridian: Greenwich"
      ]
     },
     "execution_count": 55,
     "metadata": {},
     "output_type": "execute_result"
    }
   ],
   "source": [
    "gf1.crs"
   ]
  },
  {
   "cell_type": "code",
   "execution_count": 156,
   "id": "d9246c11-65d2-4ab9-8cd2-343345dcef13",
   "metadata": {},
   "outputs": [
    {
     "name": "stdout",
     "output_type": "stream",
     "text": [
      "<class 'geopandas.geodataframe.GeoDataFrame'>\n",
      "<class 'geopandas.geodataframe.GeoDataFrame'>\n",
      "RangeIndex: 1 entries, 0 to 0\n",
      "Data columns (total 12 columns):\n",
      " #   Column      Non-Null Count  Dtype   \n",
      "---  ------      --------------  -----   \n",
      " 0   Name        1 non-null      object  \n",
      " 1   descriptio  1 non-null      object  \n",
      " 2   timestamp   0 non-null      object  \n",
      " 3   begin       0 non-null      object  \n",
      " 4   end         0 non-null      object  \n",
      " 5   altitudeMo  0 non-null      object  \n",
      " 6   tessellate  1 non-null      int64   \n",
      " 7   extrude     1 non-null      int64   \n",
      " 8   visibility  1 non-null      int64   \n",
      " 9   drawOrder   0 non-null      object  \n",
      " 10  icon        0 non-null      object  \n",
      " 11  geometry    1 non-null      geometry\n",
      "dtypes: geometry(1), int64(3), object(8)\n",
      "memory usage: 224.0+ bytes\n"
     ]
    }
   ],
   "source": [
    "gf711 = gpd.read_file(f'./7_11_鑫台北門市TWD97.shp')\n",
    "print(type(gf711))\n",
    "gf711.info()"
   ]
  },
  {
   "cell_type": "code",
   "execution_count": 157,
   "id": "c4164f8f-9cc3-49ab-a814-f868a9febc44",
   "metadata": {},
   "outputs": [
    {
     "data": {
      "text/html": [
       "<div>\n",
       "<style scoped>\n",
       "    .dataframe tbody tr th:only-of-type {\n",
       "        vertical-align: middle;\n",
       "    }\n",
       "\n",
       "    .dataframe tbody tr th {\n",
       "        vertical-align: top;\n",
       "    }\n",
       "\n",
       "    .dataframe thead th {\n",
       "        text-align: right;\n",
       "    }\n",
       "</style>\n",
       "<table border=\"1\" class=\"dataframe\">\n",
       "  <thead>\n",
       "    <tr style=\"text-align: right;\">\n",
       "      <th></th>\n",
       "      <th>Name</th>\n",
       "      <th>descriptio</th>\n",
       "      <th>timestamp</th>\n",
       "      <th>begin</th>\n",
       "      <th>end</th>\n",
       "      <th>altitudeMo</th>\n",
       "      <th>tessellate</th>\n",
       "      <th>extrude</th>\n",
       "      <th>visibility</th>\n",
       "      <th>drawOrder</th>\n",
       "      <th>icon</th>\n",
       "      <th>geometry</th>\n",
       "    </tr>\n",
       "  </thead>\n",
       "  <tbody>\n",
       "    <tr>\n",
       "      <th>0</th>\n",
       "      <td>7-ELEVEN便利商店-鑫台北門市</td>\n",
       "      <td>(02)23312768台北市中正區黎明里忠孝西路一段35號一樓</td>\n",
       "      <td>None</td>\n",
       "      <td>None</td>\n",
       "      <td>None</td>\n",
       "      <td>None</td>\n",
       "      <td>-1</td>\n",
       "      <td>0</td>\n",
       "      <td>-1</td>\n",
       "      <td>None</td>\n",
       "      <td>None</td>\n",
       "      <td>POINT Z (302315.937 2770995.873 0.000)</td>\n",
       "    </tr>\n",
       "  </tbody>\n",
       "</table>\n",
       "</div>"
      ],
      "text/plain": [
       "                 Name                        descriptio timestamp begin   end  \\\n",
       "0  7-ELEVEN便利商店-鑫台北門市  (02)23312768台北市中正區黎明里忠孝西路一段35號一樓      None  None  None   \n",
       "\n",
       "  altitudeMo  tessellate  extrude  visibility drawOrder  icon  \\\n",
       "0       None          -1        0          -1      None  None   \n",
       "\n",
       "                                 geometry  \n",
       "0  POINT Z (302315.937 2770995.873 0.000)  "
      ]
     },
     "execution_count": 157,
     "metadata": {},
     "output_type": "execute_result"
    }
   ],
   "source": [
    "gf711.head()"
   ]
  },
  {
   "cell_type": "code",
   "execution_count": 158,
   "id": "70706a0e-de48-4086-bc8f-6a2b442c8d2c",
   "metadata": {},
   "outputs": [
    {
     "data": {
      "text/html": [
       "<div>\n",
       "<style scoped>\n",
       "    .dataframe tbody tr th:only-of-type {\n",
       "        vertical-align: middle;\n",
       "    }\n",
       "\n",
       "    .dataframe tbody tr th {\n",
       "        vertical-align: top;\n",
       "    }\n",
       "\n",
       "    .dataframe thead th {\n",
       "        text-align: right;\n",
       "    }\n",
       "</style>\n",
       "<table border=\"1\" class=\"dataframe\">\n",
       "  <thead>\n",
       "    <tr style=\"text-align: right;\">\n",
       "      <th></th>\n",
       "      <th>Name</th>\n",
       "      <th>descriptio</th>\n",
       "      <th>timestamp</th>\n",
       "      <th>begin</th>\n",
       "      <th>end</th>\n",
       "      <th>altitudeMo</th>\n",
       "      <th>tessellate</th>\n",
       "      <th>extrude</th>\n",
       "      <th>visibility</th>\n",
       "      <th>drawOrder</th>\n",
       "      <th>icon</th>\n",
       "      <th>geometry</th>\n",
       "    </tr>\n",
       "  </thead>\n",
       "  <tbody>\n",
       "    <tr>\n",
       "      <th>0</th>\n",
       "      <td>7-ELEVEN便利商店-鑫台北門市</td>\n",
       "      <td>(02)23312768台北市中正區黎明里忠孝西路一段35號一樓</td>\n",
       "      <td>None</td>\n",
       "      <td>None</td>\n",
       "      <td>None</td>\n",
       "      <td>None</td>\n",
       "      <td>-1</td>\n",
       "      <td>0</td>\n",
       "      <td>-1</td>\n",
       "      <td>None</td>\n",
       "      <td>None</td>\n",
       "      <td>POLYGON ((302815.937 2770995.873, 302813.529 2...</td>\n",
       "    </tr>\n",
       "  </tbody>\n",
       "</table>\n",
       "</div>"
      ],
      "text/plain": [
       "                 Name                        descriptio timestamp begin   end  \\\n",
       "0  7-ELEVEN便利商店-鑫台北門市  (02)23312768台北市中正區黎明里忠孝西路一段35號一樓      None  None  None   \n",
       "\n",
       "  altitudeMo  tessellate  extrude  visibility drawOrder  icon  \\\n",
       "0       None          -1        0          -1      None  None   \n",
       "\n",
       "                                            geometry  \n",
       "0  POLYGON ((302815.937 2770995.873, 302813.529 2...  "
      ]
     },
     "execution_count": 158,
     "metadata": {},
     "output_type": "execute_result"
    }
   ],
   "source": [
    "gf711_buf = gf711\n",
    "gf711_buf['geometry'] = gf711.buffer(500)\n",
    "gf711_buf.head()"
   ]
  },
  {
   "cell_type": "code",
   "execution_count": 91,
   "id": "439027a4-84e4-4ba5-8cb3-630861153eed",
   "metadata": {},
   "outputs": [
    {
     "data": {
      "text/plain": [
       "<AxesSubplot:>"
      ]
     },
     "execution_count": 91,
     "metadata": {},
     "output_type": "execute_result"
    },
    {
     "data": {
      "image/png": "[encoded data removed]",
      "text/plain": [
       "<Figure size 432x288 with 1 Axes>"
      ]
     },
     "metadata": {
      "needs_background": "light"
     },
     "output_type": "display_data"
    }
   ],
   "source": [
    "gf1.plot(ax = gf711.buffer(distance=5000).plot(color='red'),color='b')"
   ]
  },
  {
   "cell_type": "code",
   "execution_count": 159,
   "id": "94212a10-9c43-41e8-95bb-b1965434bd82",
   "metadata": {},
   "outputs": [],
   "source": [
    "intersection = gpd.overlay(gf1,gf711_buf,  how='intersection')"
   ]
  },
  {
   "cell_type": "code",
   "execution_count": 160,
   "id": "2f53ccbf-2d54-4359-9ab6-064642dcbc46",
   "metadata": {},
   "outputs": [
    {
     "data": {
      "text/plain": [
       "<AxesSubplot:>"
      ]
     },
     "execution_count": 160,
     "metadata": {},
     "output_type": "execute_result"
    },
    {
     "data": {
      "image/png": "[encoded data removed]",
      "text/plain": [
       "<Figure size 432x288 with 1 Axes>"
      ]
     },
     "metadata": {
      "needs_background": "light"
     },
     "output_type": "display_data"
    }
   ],
   "source": [
    "base=gf1.plot(color='b')\n",
    "gf711_buf.plot(ax=base, color='g')\n",
    "intersection.plot(ax=base, color='y')"
   ]
  },
  {
   "cell_type": "code",
   "execution_count": 161,
   "id": "33453cdb-e3d8-4878-b8b7-3b916464ea54",
   "metadata": {},
   "outputs": [
    {
     "name": "stdout",
     "output_type": "stream",
     "text": [
      "<class 'geopandas.geodataframe.GeoDataFrame'>\n",
      "RangeIndex: 8 entries, 0 to 7\n",
      "Data columns (total 26 columns):\n",
      " #   Column       Non-Null Count  Dtype   \n",
      "---  ------       --------------  -----   \n",
      " 0   CODE2        8 non-null      object  \n",
      " 1   TOWN_ID      8 non-null      object  \n",
      " 2   TOWN         8 non-null      object  \n",
      " 3   COUNTY_ID    8 non-null      object  \n",
      " 4   COUNTY       8 non-null      object  \n",
      " 5   U_ID         8 non-null      int64   \n",
      " 6   AREA         8 non-null      float64 \n",
      " 7   X            8 non-null      float64 \n",
      " 8   Y            8 non-null      float64 \n",
      " 9   CODEBASE     8 non-null      object  \n",
      " 10  DAY_NIGHT_x  8 non-null      object  \n",
      " 11  CNT_x        8 non-null      int64   \n",
      " 12  DAY_NIGHT_y  8 non-null      object  \n",
      " 13  CNT_y        8 non-null      int64   \n",
      " 14  Name         8 non-null      object  \n",
      " 15  descriptio   8 non-null      object  \n",
      " 16  timestamp    0 non-null      object  \n",
      " 17  begin        0 non-null      object  \n",
      " 18  end          0 non-null      object  \n",
      " 19  altitudeMo   0 non-null      object  \n",
      " 20  tessellate   8 non-null      int64   \n",
      " 21  extrude      8 non-null      int64   \n",
      " 22  visibility   8 non-null      int64   \n",
      " 23  drawOrder    0 non-null      object  \n",
      " 24  icon         0 non-null      object  \n",
      " 25  geometry     8 non-null      geometry\n",
      "dtypes: float64(3), geometry(1), int64(6), object(16)\n",
      "memory usage: 1.8+ KB\n"
     ]
    }
   ],
   "source": [
    "intersection.info()"
   ]
  },
  {
   "cell_type": "code",
   "execution_count": 162,
   "id": "a169d371-21ed-4b91-a72b-1ae36e0a66aa",
   "metadata": {},
   "outputs": [
    {
     "data": {
      "text/plain": [
       "0     35936.503344\n",
       "1     24769.268317\n",
       "2    314325.244933\n",
       "3     20402.672100\n",
       "4    203476.996341\n",
       "5     91531.846941\n",
       "6     30503.313858\n",
       "7     63191.277376\n",
       "dtype: float64"
      ]
     },
     "execution_count": 162,
     "metadata": {},
     "output_type": "execute_result"
    }
   ],
   "source": [
    "intersection['geometry'].area"
   ]
  },
  {
   "cell_type": "code",
   "execution_count": 168,
   "id": "21f6ac0a-0836-45e7-9642-94b879659868",
   "metadata": {},
   "outputs": [
    {
     "data": {
      "text/plain": [
       "0    1536\n",
       "1      60\n",
       "2       5\n",
       "3       0\n",
       "4    1747\n",
       "5     575\n",
       "6     118\n",
       "Name: CNT_x, dtype: int64"
      ]
     },
     "execution_count": 168,
     "metadata": {},
     "output_type": "execute_result"
    }
   ],
   "source": [
    "intersection[0:7]['CNT_x']"
   ]
  },
  {
   "cell_type": "code",
   "execution_count": null,
   "id": "196e1fee-4cd8-4aa5-bc47-b9b07d738529",
   "metadata": {},
   "outputs": [],
   "source": []
  }
 ],
 "metadata": {
  "kernelspec": {
   "display_name": "Python 3 (ipykernel)",
   "language": "python",
   "name": "python3"
  },
  "language_info": {
   "codemirror_mode": {
    "name": "ipython",
    "version": 3
   },
   "file_extension": ".py",
   "mimetype": "text/x-python",
   "name": "python",
   "nbconvert_exporter": "python",
   "pygments_lexer": "ipython3",
   "version": "3.10.4"
  }
 },
 "nbformat": 4,
 "nbformat_minor": 5
}
