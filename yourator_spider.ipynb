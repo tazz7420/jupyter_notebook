{
 "cells": [
  {
   "cell_type": "code",
   "execution_count": 1,
   "id": "ad3c9e1f",
   "metadata": {},
   "outputs": [],
   "source": [
    "import requests as req\n",
    "import json\n",
    "from time import sleep\n",
    "from random import randint"
   ]
  },
  {
   "cell_type": "code",
   "execution_count": 2,
   "id": "4ec3fa9f",
   "metadata": {},
   "outputs": [
    {
     "name": "stdout",
     "output_type": "stream",
     "text": [
      "{\"total\":70,\"jobs\":[{\"id\":24255,\"name\":\"I177 資料分析工程師(可遠端工作)\",\"path\":\"/companies/taiwanmobile/jobs/24255\",\"category\":{\"id\":29,\"name\":\"資料工程 / 機器學習\",\"jobs_count\":444,\"job_type\":\"technical_job\",\"isco_code\":\"15-2051.00\",\"priority\":0,\"job_category_group_id\":8,\"created_at\":\"2020-06-09T14:52:17.000+08:00\",\"updated_at\":\"2021-02-22T17:04:05.000+08:00\",\"job_category_code\":\"28\"},\"tags\":[{\"id\":46,\"name\":\"Python\",\"jobs_count\":1178,\"created_at\":\"2020-10-07T14:48:44.000+08:00\",\"updated_at\":\"2020-10-07T14:48:44.000+08:00\"},{\"id\":767,\"name\":\"Data Analytics\",\"jobs_count\":6,\"created_at\":\"2020-12-02T17:28:21.000+08:00\",\"updated_at\":\"2020-12-02T17:28:21.000+08:00\"},{\"id\":2151,\"name\":\"Big Data\",\"jobs_count\":4,\"created_at\":\"2021-12-10T17:34:48.000+08:00\",\"updated_at\":\"2021-12-10T17:34:48.000+08:00\"},{\"id\":1087,\"name\":\"Machine Learning\",\"jobs_count\":3,\"created_at\":\"2021-01-19T18:47:00.000+08:00\",\"updated_at\":\"2021-01-19T18:47:00.000+08:00\"},{\"id\":2757,\"name\":\"deep learning\",\"jobs_count\":1,\"created_at\":\"2022-05-23T16:26:52.000+08:00\",\"updated_at\":\"2022-05-23T16:26:52.000+08:00\"}],\"intern\":false,\"job_type\":\"full_time\",\"has_salary_info\":true,\"follow\":false,\"salary\":\"NT$ 37,000 -  (月薪)\",\"country\":\"TW\",\"country_name\":\"台灣\",\"city\":\"臺北市\",\"company\":{\"path\":\"/companies/taiwanmobile\",\"brand\":\"台灣大哥大\",\"banner\":\"https://s3cdn.yourator.co/banners/banners/000/001/978/medium/c68ee51dd4f9ffe193322ff3c1ac052a202c9bfe.png\",\"area\":\"臺北市\"},\"remote_work\":\"remote_work_partial\",\"remote_work_description\":\"每月可申請10日居家上班\",\"remote_interview\":\"remote_interview_partial\",\"remote_interview_description\":\"\",\"is_active\":false},{\"id\":24765,\"name\":\"【數位數據/台中】數據工程師 (數數發, DDT)\",\"path\":\"/companies/cathaybk/jobs/24765\",\"category\":{\"id\":24,\"name\":\"全端工程\",\"jobs_count\":-1485,\"job_type\":\"technical_job\",\"isco_code\":\"15-1252.00\",\"priority\":2,\"job_category_group_id\":7,\"created_at\":\"2020-06-09T14:52:17.000+08:00\",\"updated_at\":\"2021-02-22T17:04:05.000+08:00\",\"job_category_code\":\"24\"},\"tags\":[{\"id\":459,\"name\":\"軟體設計工程師\",\"jobs_count\":146,\"created_at\":\"2020-10-19T17:57:16.000+08:00\",\"updated_at\":\"2020-10-19T17:57:16.000+08:00\"},{\"id\":1861,\"name\":\"演算法開發工程師\",\"jobs_count\":18,\"created_at\":\"2021-09-10T11:46:29.000+08:00\",\"updated_at\":\"2021-09-10T11:46:29.000+08:00\"},{\"id\":2352,\"name\":\"其他資訊專業人員\",\"jobs_count\":17,\"created_at\":\"2022-01-19T14:54:24.000+08:00\",\"updated_at\":\"2022-01-19T14:54:24.000+08:00\"}],\"intern\":false,\"job_type\":\"full_time\",\"has_salary_info\":false,\"follow\":false,\"salary\":\"面議（經常性薪資達4萬元）\",\"country\":\"TW\",\"country_name\":\"台灣\",\"city\":\"臺中市\",\"company\":{\"path\":\"/companies/cathaybk\",\"brand\":\"國泰世華商業銀行\",\"banner\":\"https://s3cdn.yourator.co/banners/banners/000/001/847/medium/28541a298f2162054a33bd7ab5ec7fe38d333256.png\",\"area\":\"臺北市\"},\"remote_work\":\"remote_work_partial\",\"remote_work_description\":\"\",\"remote_interview\":\"remote_interview_full\",\"remote_interview_description\":\"\",\"is_active\":true},{\"id\":24853,\"name\":\"【數位數據/高雄】數據工程師 (數數發, DDT)\",\"path\":\"/companies/cathaybk/jobs/24853\",\"category\":{\"id\":24,\"name\":\"全端工程\",\"jobs_count\":-1485,\"job_type\":\"technical_job\",\"isco_code\":\"15-1252.00\",\"priority\":2,\"job_category_group_id\":7,\"created_at\":\"2020-06-09T14:52:17.000+08:00\",\"updated_at\":\"2021-02-22T17:04:05.000+08:00\",\"job_category_code\":\"24\"},\"tags\":[{\"id\":2956,\"name\":\"軟體設計工程師、演算法開發工程師、其他資訊專業人員\",\"jobs_count\":1,\"created_at\":\"2022-06-22T13:31:35.000+08:00\",\"updated_at\":\"2022-06-22T13:31:35.000+08:00\"}],\"intern\":false,\"job_type\":\"full_time\",\"has_salary_info\":false,\"follow\":false,\"salary\":\"面議（經常性薪資達4萬元）\",\"country\":\"TW\",\"country_name\":\"台灣\",\"city\":\"高雄市\",\"company\":{\"path\":\"/companies/cathaybk\",\"brand\":\"國泰世華商業銀行\",\"banner\":\"https://s3cdn.yourator.co/banners/banners/000/001/847/medium/28541a298f2162054a33bd7ab5ec7fe38d333256.png\",\"area\":\"臺北市\"},\"remote_work\":\"remote_work_partial\",\"remote_work_description\":\"\",\"remote_interview\":\"remote_interview_full\",\"remote_interview_description\":\"\",\"is_active\":true},{\"id\":7624,\"name\":\"Content Acquisition Software Engineer (可視訊面試及彈性WFH)\",\"path\":\"/companies/Netbase/jobs/7624\",\"category\":{\"id\":23,\"name\":\"後端工程\",\"jobs_count\":954,\"job_type\":\"technical_job\",\"isco_code\":\"15-1252.00\",\"priority\":1,\"job_category_group_id\":7,\"created_at\":\"2020-06-09T14:52:17.000+08:00\",\"updated_at\":\"2021-02-22T17:04:05.000+08:00\",\"job_category_code\":\"23\"},\"tags\":[{\"id\":14,\"name\":\"跨國團隊\",\"jobs_count\":1918,\"created_at\":\"2020-10-07T14:48:44.000+08:00\",\"updated_at\":\"2020-10-07T14:48:44.000+08:00\"},{\"id\":67,\"name\":\"SQL\",\"jobs_count\":917,\"created_at\":\"2020-10-07T14:48:44.000+08:00\",\"updated_at\":\"2020-10-07T14:48:44.000+08:00\"},{\"id\":106,\"name\":\"BigData\",\"jobs_count\":875,\"created_at\":\"2020-10-07T14:48:44.000+08:00\",\"updated_at\":\"2020-10-07T14:48:44.000+08:00\"},{\"id\":24,\"name\":\"Java\",\"jobs_count\":870,\"created_at\":\"2020-10-07T14:48:44.000+08:00\",\"updated_at\":\"2020-10-07T14:48:44.000+08:00\"},{\"id\":317,\"name\":\"Linux\",\"jobs_count\":787,\"created_at\":\"2020-10-07T14:48:46.000+08:00\",\"updated_at\":\"2020-10-07T14:48:46.000+08:00\"},{\"id\":30,\"name\":\"Git\",\"jobs_count\":283,\"created_at\":\"2020-10-07T14:48:44.000+08:00\",\"updated_at\":\"2020-10-07T14:48:44.000+08:00\"}],\"intern\":false,\"job_type\":\"full_time\",\"has_salary_info\":false,\"follow\":false,\"salary\":\"面議（經常性薪資達4萬元）\",\"country\":\"TW\",\"country_name\":\"台灣\",\"city\":\"臺北市\",\"company\":{\"path\":\"/companies/Netbase\",\"brand\":\"NETBASE QUID\",\"banner\":\"https://s3cdn.yourator.co/banners/banners/000/001/007/medium/faa79c5495c06ede1359dc4597edfcb2621115a8.png\",\"area\":\"臺北市\"},\"remote_work\":\"remote_work_partial\",\"remote_work_description\":\"\",\"remote_interview\":\"remote_interview_partial\",\"remote_interview_description\":\"\",\"is_active\":false},{\"id\":21970,\"name\":\"Front End (React) 前端工程師\",\"path\":\"/companies/upstartdna/jobs/21970\",\"category\":{\"id\":22,\"name\":\"前端工程\",\"jobs_count\":1373,\"job_type\":\"technical_job\",\"isco_code\":\"15-1252.00\",\"priority\":0,\"job_category_group_id\":7,\"created_at\":\"2020-06-09T14:52:17.000+08:00\",\"updated_at\":\"2021-02-22T17:04:05.000+08:00\",\"job_category_code\":\"22\"},\"tags\":[{\"id\":293,\"name\":\"ReactJS\",\"jobs_count\":620,\"created_at\":\"2020-10-07T14:48:46.000+08:00\",\"updated_at\":\"2020-10-07T14:48:46.000+08:00\"},{\"id\":30,\"name\":\"Git\",\"jobs_count\":283,\"created_at\":\"2020-10-07T14:48:44.000+08:00\",\"updated_at\":\"2020-10-07T14:48:44.000+08:00\"},{\"id\":32,\"name\":\"Ruby\",\"jobs_count\":170,\"created_at\":\"2020-10-07T14:48:44.000+08:00\",\"updated_at\":\"2020-10-07T14:48:44.000+08:00\"},{\"id\":616,\"name\":\"frontend\",\"jobs_count\":111,\"created_at\":\"2020-11-04T14:45:59.000+08:00\",\"updated_at\":\"2020-11-04T14:45:59.000+08:00\"},{\"id\":60,\"name\":\"前端開發\",\"jobs_count\":78,\"created_at\":\"2020-10-07T14:48:44.000+08:00\",\"updated_at\":\"2020-10-07T14:48:44.000+08:00\"},{\"id\":748,\"name\":\"React\",\"jobs_count\":37,\"created_at\":\"2020-12-01T18:02:55.000+08:00\",\"updated_at\":\"2020-12-01T18:02:55.000+08:00\"}],\"intern\":false,\"job_type\":\"full_time\",\"has_salary_info\":true,\"follow\":false,\"salary\":\"NT$ 1,000,000 -  (年薪)\",\"country\":\"TW\",\"country_name\":\"台灣\",\"city\":\"臺北市\",\"company\":{\"path\":\"/companies/upstartdna\",\"brand\":\"Affiliates.One 聯盟網\",\"banner\":\"https://s3cdn.yourator.co/banners/banners/000/001/021/medium/cec35644ed3dbb4631fd6c55c0c97e4829150b16.png\",\"area\":\"臺北市\"},\"remote_work\":\"remote_work_partial\",\"remote_work_description\":\"\",\"remote_interview\":\"remote_interview_partial\",\"remote_interview_description\":\"一、二次面試可以遠端進行、只有最後一關需 Onsite\",\"is_active\":false},{\"id\":24815,\"name\":\"Web \\u0026 Graphic Designer\",\"path\":\"/companies/CoolBitX/jobs/24815\",\"category\":{\"id\":18,\"name\":\"UIUX / 視覺設計\",\"jobs_count\":790,\"job_type\":\"normal_job\",\"isco_code\":\"15-1255.00\",\"priority\":1,\"job_category_group_id\":5,\"created_at\":\"2020-06-09T14:52:17.000+08:00\",\"updated_at\":\"2021-02-22T17:04:05.000+08:00\",\"job_category_code\":\"18\"},\"tags\":[{\"id\":174,\"name\":\"blockchain\",\"jobs_count\":232,\"created_at\":\"2020-10-07T14:48:45.000+08:00\",\"updated_at\":\"2020-10-07T14:48:45.000+08:00\"},{\"id\":761,\"name\":\"crypto\",\"jobs_count\":51,\"created_at\":\"2020-12-02T16:00:59.000+08:00\",\"updated_at\":\"2020-12-02T16:00:59.000+08:00\"},{\"id\":683,\"name\":\"Web design\",\"jobs_count\":13,\"created_at\":\"2020-11-18T15:43:44.000+08:00\",\"updated_at\":\"2020-11-18T15:43:44.000+08:00\"},{\"id\":1640,\"name\":\"GRAPHIC DESIGNER\",\"jobs_count\":9,\"created_at\":\"2021-07-02T14:57:03.000+08:00\",\"updated_at\":\"2021-07-02T14:57:03.000+08:00\"}],\"intern\":false,\"job_type\":\"full_time\",\"has_salary_info\":false,\"follow\":false,\"salary\":\"面議（經常性薪資達4萬元）\",\"country\":\"TW\",\"country_name\":\"台灣\",\"city\":\"臺北市\",\"company\":{\"path\":\"/companies/CoolBitX\",\"brand\":\"CoolBitX 庫幣科技\",\"banner\":\"https://s3cdn.yourator.co/banners/banners/000/000/377/medium/8ccf5617e6fbdbde31c9feb61b8b2e225db76373.png\",\"area\":\"臺北市\"},\"remote_work\":\"remote_work_partial\",\"remote_work_description\":\"\",\"remote_interview\":\"remote_interview_partial\",\"remote_interview_description\":\"\",\"is_active\":true},{\"id\":23475,\"name\":\"【CDP Team】首席軟體工程師 Principal Software Engineer\",\"path\":\"/companies/iKala/jobs/23475\",\"category\":{\"id\":23,\"name\":\"後端工程\",\"jobs_count\":954,\"job_type\":\"technical_job\",\"isco_code\":\"15-1252.00\",\"priority\":1,\"job_category_group_id\":7,\"created_at\":\"2020-06-09T14:52:17.000+08:00\",\"updated_at\":\"2021-02-22T17:04:05.000+08:00\",\"job_category_code\":\"23\"},\"tags\":[],\"intern\":false,\"job_type\":\"full_time\",\"has_salary_info\":false,\"follow\":false,\"salary\":\"面議（經常性薪資達4萬元）\",\"country\":\"TW\",\"country_name\":\"台灣\",\"city\":\"臺北市\",\"company\":{\"path\":\"/companies/iKala\",\"brand\":\"iKala 愛卡拉\",\"banner\":\"https://s3cdn.yourator.co/banners/banners/000/000/061/medium/9ebd0f8524dfc9c473b6ebfeda738cb0aa69d763.png\",\"area\":\"臺北市\"},\"remote_work\":\"remote_work_partial\",\"remote_work_description\":\"提供彈性遠端工作機會\",\"remote_interview\":\"remote_interview_partial\",\"remote_interview_description\":\"\",\"is_active\":false},{\"id\":24129,\"name\":\"【CDP Team】技術總監 Lead Engineer\",\"path\":\"/companies/iKala/jobs/24129\",\"category\":{\"id\":23,\"name\":\"後端工程\",\"jobs_count\":954,\"job_type\":\"technical_job\",\"isco_code\":\"15-1252.00\",\"priority\":1,\"job_category_group_id\":7,\"created_at\":\"2020-06-09T14:52:17.000+08:00\",\"updated_at\":\"2021-02-22T17:04:05.000+08:00\",\"job_category_code\":\"23\"},\"tags\":[],\"intern\":false,\"job_type\":\"full_time\",\"has_salary_info\":false,\"follow\":false,\"salary\":\"面議（經常性薪資達4萬元）\",\"country\":\"TW\",\"country_name\":\"台灣\",\"city\":\"臺北市\",\"company\":{\"path\":\"/companies/iKala\",\"brand\":\"iKala 愛卡拉\",\"banner\":\"https://s3cdn.yourator.co/banners/banners/000/000/061/medium/9ebd0f8524dfc9c473b6ebfeda738cb0aa69d763.png\",\"area\":\"臺北市\"},\"remote_work\":\"remote_work_partial\",\"remote_work_description\":\"提供彈性遠端工作機會\",\"remote_interview\":\"remote_interview_partial\",\"remote_interview_description\":\"\",\"is_active\":false},{\"id\":23080,\"name\":\"【AI Team】數據工程師 Data Engineer\",\"path\":\"/companies/iKala/jobs/23080\",\"category\":{\"id\":29,\"name\":\"資料工程 / 機器學習\",\"jobs_count\":444,\"job_type\":\"technical_job\",\"isco_code\":\"15-2051.00\",\"priority\":0,\"job_category_group_id\":8,\"created_at\":\"2020-06-09T14:52:17.000+08:00\",\"updated_at\":\"2021-02-22T17:04:05.000+08:00\",\"job_category_code\":\"28\"},\"tags\":[],\"intern\":false,\"job_type\":\"full_time\",\"has_salary_info\":false,\"follow\":false,\"salary\":\"面議（經常性薪資達4萬元）\",\"country\":\"TW\",\"country_name\":\"台灣\",\"city\":\"臺北市\",\"company\":{\"path\":\"/companies/iKala\",\"brand\":\"iKala 愛卡拉\",\"banner\":\"https://s3cdn.yourator.co/banners/banners/000/000/061/medium/9ebd0f8524dfc9c473b6ebfeda738cb0aa69d763.png\",\"area\":\"臺北市\"},\"remote_work\":\"remote_work_partial\",\"remote_work_description\":\"提供彈性遠端工作機會\",\"remote_interview\":\"remote_interview_partial\",\"remote_interview_description\":\"\",\"is_active\":false},{\"id\":24258,\"name\":\"(2022 Contractor) Product Support Engineer - Applied Data Science Platform (可視訊面試及彈性WFH)\",\"path\":\"/companies/Netbase/jobs/24258\",\"category\":{\"id\":29,\"name\":\"資料工程 / 機器學習\",\"jobs_count\":444,\"job_type\":\"technical_job\",\"isco_code\":\"15-2051.00\",\"priority\":0,\"job_category_group_id\":8,\"created_at\":\"2020-06-09T14:52:17.000+08:00\",\"updated_at\":\"2021-02-22T17:04:05.000+08:00\",\"job_category_code\":\"28\"},\"tags\":[{\"id\":46,\"name\":\"Python\",\"jobs_count\":1178,\"created_at\":\"2020-10-07T14:48:44.000+08:00\",\"updated_at\":\"2020-10-07T14:48:44.000+08:00\"},{\"id\":129,\"name\":\"AI\",\"jobs_count\":1050,\"created_at\":\"2020-10-07T14:48:45.000+08:00\",\"updated_at\":\"2020-10-07T14:48:45.000+08:00\"},{\"id\":67,\"name\":\"SQL\",\"jobs_count\":917,\"created_at\":\"2020-10-07T14:48:44.000+08:00\",\"updated_at\":\"2020-10-07T14:48:44.000+08:00\"},{\"id\":106,\"name\":\"BigData\",\"jobs_count\":875,\"created_at\":\"2020-10-07T14:48:44.000+08:00\",\"updated_at\":\"2020-10-07T14:48:44.000+08:00\"},{\"id\":24,\"name\":\"Java\",\"jobs_count\":870,\"created_at\":\"2020-10-07T14:48:44.000+08:00\",\"updated_at\":\"2020-10-07T14:48:44.000+08:00\"},{\"id\":317,\"name\":\"Linux\",\"jobs_count\":787,\"created_at\":\"2020-10-07T14:48:46.000+08:00\",\"updated_at\":\"2020-10-07T14:48:46.000+08:00\"}],\"intern\":false,\"job_type\":\"intern\",\"has_salary_info\":false,\"follow\":false,\"salary\":\"面議（經常性薪資達4萬元）\",\"country\":\"TW\",\"country_name\":\"台灣\",\"city\":\"臺北市\",\"company\":{\"path\":\"/companies/Netbase\",\"brand\":\"NETBASE QUID\",\"banner\":\"https://s3cdn.yourator.co/banners/banners/000/001/007/medium/faa79c5495c06ede1359dc4597edfcb2621115a8.png\",\"area\":\"臺北市\"},\"remote_work\":\"remote_work_partial\",\"remote_work_description\":\"\",\"remote_interview\":\"remote_interview_partial\",\"remote_interview_description\":\"\",\"is_active\":false},{\"id\":24270,\"name\":\"カスタマーサクセスマネージャー (Sr.) Customer Success Manager, Japan\",\"path\":\"/companies/CrescendoLab/jobs/24270\",\"category\":{\"id\":34,\"name\":\"客戶服務\",\"jobs_count\":436,\"job_type\":\"normal_job\",\"isco_code\":\"43-4051.00\",\"priority\":4,\"job_category_group_id\":9,\"created_at\":\"2020-06-09T14:52:17.000+08:00\",\"updated_at\":\"2021-02-22T17:04:05.000+08:00\",\"job_category_code\":\"33\"},\"tags\":[],\"intern\":false,\"job_type\":\"full_time\",\"has_salary_info\":true,\"follow\":false,\"salary\":\"面議（經常性薪資達4萬元）\",\"country\":\"JP\",\"country_name\":\"日本\",\"city\":\"東京都\",\"company\":{\"path\":\"/companies/CrescendoLab\",\"brand\":\"漸強實驗室 Crescendo Lab Ltd.\",\"banner\":\"https://s3cdn.yourator.co/banners/banners/000/000/643/medium/ca65cc0368d3e47181450d65252a97d1fa309ab1.png\",\"area\":\"臺北市\"},\"remote_work\":\"remote_work_none\",\"remote_work_description\":null,\"remote_interview\":\"remote_interview_none\",\"remote_interview_description\":null,\"is_active\":true},{\"id\":21663,\"name\":\"Sr. Java Backend Software Engineer (可視訊面試及彈性WFH)\",\"path\":\"/companies/Netbase/jobs/21663\",\"category\":{\"id\":23,\"name\":\"後端工程\",\"jobs_count\":954,\"job_type\":\"technical_job\",\"isco_code\":\"15-1252.00\",\"priority\":1,\"job_category_group_id\":7,\"created_at\":\"2020-06-09T14:52:17.000+08:00\",\"updated_at\":\"2021-02-22T17:04:05.000+08:00\",\"job_category_code\":\"23\"},\"tags\":[{\"id\":14,\"name\":\"跨國團隊\",\"jobs_count\":1918,\"created_at\":\"2020-10-07T14:48:44.000+08:00\",\"updated_at\":\"2020-10-07T14:48:44.000+08:00\"},{\"id\":67,\"name\":\"SQL\",\"jobs_count\":917,\"created_at\":\"2020-10-07T14:48:44.000+08:00\",\"updated_at\":\"2020-10-07T14:48:44.000+08:00\"},{\"id\":106,\"name\":\"BigData\",\"jobs_count\":875,\"created_at\":\"2020-10-07T14:48:44.000+08:00\",\"updated_at\":\"2020-10-07T14:48:44.000+08:00\"},{\"id\":24,\"name\":\"Java\",\"jobs_count\":870,\"created_at\":\"2020-10-07T14:48:44.000+08:00\",\"updated_at\":\"2020-10-07T14:48:44.000+08:00\"},{\"id\":317,\"name\":\"Linux\",\"jobs_count\":787,\"created_at\":\"2020-10-07T14:48:46.000+08:00\",\"updated_at\":\"2020-10-07T14:48:46.000+08:00\"},{\"id\":30,\"name\":\"Git\",\"jobs_count\":283,\"created_at\":\"2020-10-07T14:48:44.000+08:00\",\"updated_at\":\"2020-10-07T14:48:44.000+08:00\"}],\"intern\":false,\"job_type\":\"full_time\",\"has_salary_info\":false,\"follow\":false,\"salary\":\"面議（經常性薪資達4萬元）\",\"country\":\"TW\",\"country_name\":\"台灣\",\"city\":\"臺北市\",\"company\":{\"path\":\"/companies/Netbase\",\"brand\":\"NETBASE QUID\",\"banner\":\"https://s3cdn.yourator.co/banners/banners/000/001/007/medium/faa79c5495c06ede1359dc4597edfcb2621115a8.png\",\"area\":\"臺北市\"},\"remote_work\":\"remote_work_partial\",\"remote_work_description\":\"\",\"remote_interview\":\"remote_interview_partial\",\"remote_interview_description\":\"\",\"is_active\":false},{\"id\":24692,\"name\":\"PR \\u0026 Events Specialist\",\"path\":\"/companies/CoolBitX/jobs/24692\",\"category\":{\"id\":11,\"name\":\"媒體公關 / 宣傳採買\",\"jobs_count\":120,\"job_type\":\"normal_job\",\"isco_code\":\"27-3031.00\",\"priority\":5,\"job_category_group_id\":2,\"created_at\":\"2020-06-09T14:52:17.000+08:00\",\"updated_at\":\"2021-02-22T17:04:05.000+08:00\",\"job_category_code\":\"11\"},\"tags\":[{\"id\":1001,\"name\":\"public relations\",\"jobs_count\":4,\"created_at\":\"2021-01-05T19:37:43.000+08:00\",\"updated_at\":\"2021-01-05T19:37:43.000+08:00\"}],\"intern\":false,\"job_type\":\"full_time\",\"has_salary_info\":false,\"follow\":false,\"salary\":\"面議（經常性薪資達4萬元）\",\"country\":\"TW\",\"country_name\":\"台灣\",\"city\":\"臺北市\",\"company\":{\"path\":\"/companies/CoolBitX\",\"brand\":\"CoolBitX 庫幣科技\",\"banner\":\"https://s3cdn.yourator.co/banners/banners/000/000/377/medium/8ccf5617e6fbdbde31c9feb61b8b2e225db76373.png\",\"area\":\"臺北市\"},\"remote_work\":\"remote_work_partial\",\"remote_work_description\":\"\",\"remote_interview\":\"remote_interview_partial\",\"remote_interview_description\":\"\",\"is_active\":false},{\"id\":18860,\"name\":\"Data Engineer \",\"path\":\"/companies/shopline/jobs/18860\",\"category\":{\"id\":29,\"name\":\"資料工程 / 機器學習\",\"jobs_count\":444,\"job_type\":\"technical_job\",\"isco_code\":\"15-2051.00\",\"priority\":0,\"job_category_group_id\":8,\"created_at\":\"2020-06-09T14:52:17.000+08:00\",\"updated_at\":\"2021-02-22T17:04:05.000+08:00\",\"job_category_code\":\"28\"},\"tags\":[{\"id\":631,\"name\":\"Data Engineer\",\"jobs_count\":48,\"created_at\":\"2020-11-08T16:25:53.000+08:00\",\"updated_at\":\"2020-11-08T16:25:53.000+08:00\"},{\"id\":632,\"name\":\"ETL\",\"jobs_count\":18,\"created_at\":\"2020-11-08T16:25:53.000+08:00\",\"updated_at\":\"2020-11-08T16:25:53.000+08:00\"}],\"intern\":false,\"job_type\":\"full_time\",\"has_salary_info\":true,\"follow\":false,\"salary\":\"NT$ 900,000 - 1,600,000 (年薪)\",\"country\":\"TW\",\"country_name\":\"台灣\",\"city\":\"臺北市\",\"company\":{\"path\":\"/companies/shopline\",\"brand\":\"SHOPLINE Technology Corp., Ltd.\",\"banner\":\"https://s3cdn.yourator.co/banners/banners/000/000/118/medium/95dc942800c8e6bed1e97b68836d8d2217013896.png\",\"area\":\"臺北市\"},\"remote_work\":\"remote_work_none\",\"remote_work_description\":\"目前公司部門預計遠端工作至8/6，疫情緩和後仍須進辦公室工作\",\"remote_interview\":\"remote_interview_none\",\"remote_interview_description\":\"因應疫情狀況，將以Zoom方式進行\",\"is_active\":true},{\"id\":19640,\"name\":\" [新竹] Senior Software Engineer - Backend (資深後端軟體工程師)\",\"path\":\"/companies/TenMax/jobs/19640\",\"category\":{\"id\":23,\"name\":\"後端工程\",\"jobs_count\":954,\"job_type\":\"technical_job\",\"isco_code\":\"15-1252.00\",\"priority\":1,\"job_category_group_id\":7,\"created_at\":\"2020-06-09T14:52:17.000+08:00\",\"updated_at\":\"2021-02-22T17:04:05.000+08:00\",\"job_category_code\":\"23\"},\"tags\":[{\"id\":24,\"name\":\"Java\",\"jobs_count\":870,\"created_at\":\"2020-10-07T14:48:44.000+08:00\",\"updated_at\":\"2020-10-07T14:48:44.000+08:00\"},{\"id\":317,\"name\":\"Linux\",\"jobs_count\":787,\"created_at\":\"2020-10-07T14:48:46.000+08:00\",\"updated_at\":\"2020-10-07T14:48:46.000+08:00\"},{\"id\":30,\"name\":\"Git\",\"jobs_count\":283,\"created_at\":\"2020-10-07T14:48:44.000+08:00\",\"updated_at\":\"2020-10-07T14:48:44.000+08:00\"},{\"id\":927,\"name\":\"spring\",\"jobs_count\":18,\"created_at\":\"2020-12-23T13:54:28.000+08:00\",\"updated_at\":\"2020-12-23T13:54:28.000+08:00\"}],\"intern\":false,\"job_type\":\"full_time\",\"has_salary_info\":true,\"follow\":false,\"salary\":\"NT$ 75,000 - 100,000 (月薪)\",\"country\":\"TW\",\"country_name\":\"台灣\",\"city\":\"新竹縣\",\"company\":{\"path\":\"/companies/TenMax\",\"brand\":\"騰學廣告科技/TenMax - funP 雲沛創新集團\",\"banner\":\"https://s3cdn.yourator.co/banners/banners/000/001/034/medium/d73e98c9e547517fcaec99285d67dbf6e0edf411.png\",\"area\":\"臺北市\"},\"remote_work\":\"remote_work_partial\",\"remote_work_description\":\" 部分遠端，每週可自選一日遠端工作\",\"remote_interview\":\"remote_interview_partial\",\"remote_interview_description\":\"\",\"is_active\":false},{\"id\":24552,\"name\":\"Marketing Specialist (ANZ Region)\",\"path\":\"/companies/synology/jobs/24552\",\"category\":{\"id\":6,\"name\":\"行銷企劃 / 社群經營\",\"jobs_count\":1474,\"job_type\":\"normal_job\",\"isco_code\":\"13-1161.00\",\"priority\":0,\"job_category_group_id\":2,\"created_at\":\"2020-06-09T14:52:17.000+08:00\",\"updated_at\":\"2021-02-22T17:04:05.000+08:00\",\"job_category_code\":\"6\"},\"tags\":[{\"id\":388,\"name\":\"marketing\",\"jobs_count\":144,\"created_at\":\"2020-10-12T12:16:53.000+08:00\",\"updated_at\":\"2020-10-12T12:16:53.000+08:00\"}],\"intern\":false,\"job_type\":\"full_time\",\"has_salary_info\":false,\"follow\":false,\"salary\":\"面議（經常性薪資達4萬元）\",\"country\":\"TW\",\"country_name\":\"台灣\",\"city\":\"新北市\",\"company\":{\"path\":\"/companies/synology\",\"brand\":\"SYNOLOGY群暉科技\",\"banner\":\"https://s3cdn.yourator.co/banners/banners/000/001/654/medium/921241c2ba41e5f56a3023dad2fc7ea654be5552.png\",\"area\":\"新北市\"},\"remote_work\":\"remote_work_none\",\"remote_work_description\":null,\"remote_interview\":\"remote_interview_partial\",\"remote_interview_description\":\"只有最後一關需要 Onsite\",\"is_active\":false},{\"id\":24553,\"name\":\"Marketing Specialist (Philippines Region)\",\"path\":\"/companies/synology/jobs/24553\",\"category\":{\"id\":6,\"name\":\"行銷企劃 / 社群經營\",\"jobs_count\":1474,\"job_type\":\"normal_job\",\"isco_code\":\"13-1161.00\",\"priority\":0,\"job_category_group_id\":2,\"created_at\":\"2020-06-09T14:52:17.000+08:00\",\"updated_at\":\"2021-02-22T17:04:05.000+08:00\",\"job_category_code\":\"6\"},\"tags\":[{\"id\":388,\"name\":\"marketing\",\"jobs_count\":144,\"created_at\":\"2020-10-12T12:16:53.000+08:00\",\"updated_at\":\"2020-10-12T12:16:53.000+08:00\"}],\"intern\":false,\"job_type\":\"full_time\",\"has_salary_info\":false,\"follow\":false,\"salary\":\"面議（經常性薪資達4萬元）\",\"country\":\"TW\",\"country_name\":\"台灣\",\"city\":\"新北市\",\"company\":{\"path\":\"/companies/synology\",\"brand\":\"SYNOLOGY群暉科技\",\"banner\":\"https://s3cdn.yourator.co/banners/banners/000/001/654/medium/921241c2ba41e5f56a3023dad2fc7ea654be5552.png\",\"area\":\"新北市\"},\"remote_work\":\"remote_work_none\",\"remote_work_description\":null,\"remote_interview\":\"remote_interview_partial\",\"remote_interview_description\":\"只有最後一關需要 Onsite\",\"is_active\":false},{\"id\":19148,\"name\":\"Project Manager (MIS)\",\"path\":\"/companies/synology/jobs/19148\",\"category\":{\"id\":17,\"name\":\"專案 / 產品管理\",\"jobs_count\":1163,\"job_type\":\"normal_job\",\"isco_code\":\"11-3051.00\",\"priority\":0,\"job_category_group_id\":5,\"created_at\":\"2020-06-09T14:52:17.000+08:00\",\"updated_at\":\"2021-02-22T17:04:05.000+08:00\",\"job_category_code\":\"17\"},\"tags\":[{\"id\":419,\"name\":\"project manager\",\"jobs_count\":74,\"created_at\":\"2020-10-14T15:27:49.000+08:00\",\"updated_at\":\"2020-10-14T15:27:49.000+08:00\"}],\"intern\":false,\"job_type\":\"full_time\",\"has_salary_info\":false,\"follow\":false,\"salary\":\"面議（經常性薪資達4萬元）\",\"country\":\"TW\",\"country_name\":\"台灣\",\"city\":\"新北市\",\"company\":{\"path\":\"/companies/synology\",\"brand\":\"SYNOLOGY群暉科技\",\"banner\":\"https://s3cdn.yourator.co/banners/banners/000/001/654/medium/921241c2ba41e5f56a3023dad2fc7ea654be5552.png\",\"area\":\"新北市\"},\"remote_work\":\"remote_work_none\",\"remote_work_description\":null,\"remote_interview\":\"remote_interview_partial\",\"remote_interview_description\":\"最後一關需要 Onsite\",\"is_active\":false},{\"id\":20258,\"name\":\"Senior Data Engineer\",\"path\":\"/companies/BitoEX/jobs/20258\",\"category\":{\"id\":29,\"name\":\"資料工程 / 機器學習\",\"jobs_count\":444,\"job_type\":\"technical_job\",\"isco_code\":\"15-2051.00\",\"priority\":0,\"job_category_group_id\":8,\"created_at\":\"2020-06-09T14:52:17.000+08:00\",\"updated_at\":\"2021-02-22T17:04:05.000+08:00\",\"job_category_code\":\"28\"},\"tags\":[{\"id\":631,\"name\":\"Data Engineer\",\"jobs_count\":48,\"created_at\":\"2020-11-08T16:25:53.000+08:00\",\"updated_at\":\"2020-11-08T16:25:53.000+08:00\"}],\"intern\":false,\"job_type\":\"full_time\",\"has_salary_info\":true,\"follow\":false,\"salary\":\"NT$ 65,000 - 120,000 (月薪)\",\"country\":\"TW\",\"country_name\":\"台灣\",\"city\":\"新北市\",\"company\":{\"path\":\"/companies/BitoEX\",\"brand\":\"幣託 BitoEX\",\"banner\":\"https://s3cdn.yourator.co/banners/banners/000/000/880/medium/102aabf5e4100020b3f7bae33dd9d89b364cd7ee.png\",\"area\":\"新北市\"},\"remote_work\":\"remote_work_none\",\"remote_work_description\":null,\"remote_interview\":\"remote_interview_none\",\"remote_interview_description\":null,\"is_active\":false},{\"id\":23654,\"name\":\" 業務代表 Sales Representative (EMEA / 阿拉伯語)\",\"path\":\"/companies/CoolBitX/jobs/23654\",\"category\":{\"id\":1,\"name\":\"商業開發\",\"jobs_count\":475,\"job_type\":\"normal_job\",\"isco_code\":\"13-1199.00\",\"priority\":0,\"job_category_group_id\":1,\"created_at\":\"2020-06-09T14:52:17.000+08:00\",\"updated_at\":\"2021-02-22T17:04:05.000+08:00\",\"job_category_code\":\"1\"},\"tags\":[{\"id\":174,\"name\":\"blockchain\",\"jobs_count\":232,\"created_at\":\"2020-10-07T14:48:45.000+08:00\",\"updated_at\":\"2020-10-07T14:48:45.000+08:00\"},{\"id\":401,\"name\":\"SALES\",\"jobs_count\":81,\"created_at\":\"2020-10-13T09:32:38.000+08:00\",\"updated_at\":\"2020-10-13T09:32:38.000+08:00\"},{\"id\":761,\"name\":\"crypto\",\"jobs_count\":51,\"created_at\":\"2020-12-02T16:00:59.000+08:00\",\"updated_at\":\"2020-12-02T16:00:59.000+08:00\"},{\"id\":2822,\"name\":\"EMEA\",\"jobs_count\":1,\"created_at\":\"2022-06-07T11:46:35.000+08:00\",\"updated_at\":\"2022-06-07T11:46:35.000+08:00\"}],\"intern\":false,\"job_type\":\"full_time\",\"has_salary_info\":false,\"follow\":false,\"salary\":\"面議（經常性薪資達4萬元）\",\"country\":\"TW\",\"country_name\":\"台灣\",\"city\":\"臺北市\",\"company\":{\"path\":\"/companies/CoolBitX\",\"brand\":\"CoolBitX 庫幣科技\",\"banner\":\"https://s3cdn.yourator.co/banners/banners/000/000/377/medium/8ccf5617e6fbdbde31c9feb61b8b2e225db76373.png\",\"area\":\"臺北市\"},\"remote_work\":\"remote_work_partial\",\"remote_work_description\":\"每週有一天的在家辦公彈性\",\"remote_interview\":\"remote_interview_partial\",\"remote_interview_description\":\"第一關線上、第二關現場\",\"is_active\":false}]}\n"
     ]
    }
   ],
   "source": [
    "qItem = 'big data'\n",
    "url = f\"https://www.yourator.co/api/v2/jobs?term[]={qItem}&page=1\"\n",
    "\n",
    "res = req.get(url)\n",
    "print(res.text)"
   ]
  },
  {
   "cell_type": "code",
   "execution_count": 3,
   "id": "1498ab36",
   "metadata": {},
   "outputs": [
    {
     "name": "stdout",
     "output_type": "stream",
     "text": [
      "70\n"
     ]
    }
   ],
   "source": [
    "data = json.loads(res.text)\n",
    "print(data['total'])"
   ]
  },
  {
   "cell_type": "code",
   "execution_count": 5,
   "id": "57df2aef",
   "metadata": {},
   "outputs": [
    {
     "name": "stdout",
     "output_type": "stream",
     "text": [
      "4\n"
     ]
    }
   ],
   "source": [
    "pages = int(data['total']/20)\n",
    "if data['total'] % 20 != 0:\n",
    "    pages = pages + 1\n",
    "print(pages)"
   ]
  },
  {
   "cell_type": "code",
   "execution_count": 13,
   "id": "b0510443",
   "metadata": {},
   "outputs": [
    {
     "name": "stdout",
     "output_type": "stream",
     "text": [
      "name of job: I177 資料分析工程師(可遠端工作), salary: NT$ 37,000 -  (月薪)\n",
      "====================================================================================================\n",
      "name of job: 【數位數據/台中】數據工程師 (數數發, DDT), salary: 面議（經常性薪資達4萬元）\n",
      "====================================================================================================\n",
      "name of job: 【數位數據/高雄】數據工程師 (數數發, DDT), salary: 面議（經常性薪資達4萬元）\n",
      "====================================================================================================\n",
      "name of job: Content Acquisition Software Engineer (可視訊面試及彈性WFH), salary: 面議（經常性薪資達4萬元）\n",
      "====================================================================================================\n",
      "name of job: Front End (React) 前端工程師, salary: NT$ 1,000,000 -  (年薪)\n",
      "====================================================================================================\n",
      "name of job: Web & Graphic Designer, salary: 面議（經常性薪資達4萬元）\n",
      "====================================================================================================\n",
      "name of job: 【CDP Team】首席軟體工程師 Principal Software Engineer, salary: 面議（經常性薪資達4萬元）\n",
      "====================================================================================================\n",
      "name of job: 【CDP Team】技術總監 Lead Engineer, salary: 面議（經常性薪資達4萬元）\n",
      "====================================================================================================\n",
      "name of job: 【AI Team】數據工程師 Data Engineer, salary: 面議（經常性薪資達4萬元）\n",
      "====================================================================================================\n",
      "name of job: (2022 Contractor) Product Support Engineer - Applied Data Science Platform (可視訊面試及彈性WFH), salary: 面議（經常性薪資達4萬元）\n",
      "====================================================================================================\n",
      "name of job: カスタマーサクセスマネージャー (Sr.) Customer Success Manager, Japan, salary: 面議（經常性薪資達4萬元）\n",
      "====================================================================================================\n",
      "name of job: Sr. Java Backend Software Engineer (可視訊面試及彈性WFH), salary: 面議（經常性薪資達4萬元）\n",
      "====================================================================================================\n",
      "name of job: PR & Events Specialist, salary: 面議（經常性薪資達4萬元）\n",
      "====================================================================================================\n",
      "name of job: Data Engineer , salary: NT$ 900,000 - 1,600,000 (年薪)\n",
      "====================================================================================================\n",
      "name of job:  [新竹] Senior Software Engineer - Backend (資深後端軟體工程師), salary: NT$ 75,000 - 100,000 (月薪)\n",
      "====================================================================================================\n",
      "name of job: Marketing Specialist (ANZ Region), salary: 面議（經常性薪資達4萬元）\n",
      "====================================================================================================\n",
      "name of job: Marketing Specialist (Philippines Region), salary: 面議（經常性薪資達4萬元）\n",
      "====================================================================================================\n",
      "name of job: Project Manager (MIS), salary: 面議（經常性薪資達4萬元）\n",
      "====================================================================================================\n",
      "name of job: Senior Data Engineer, salary: NT$ 65,000 - 120,000 (月薪)\n",
      "====================================================================================================\n",
      "name of job:  業務代表 Sales Representative (EMEA / 阿拉伯語), salary: 面議（經常性薪資達4萬元）\n",
      "====================================================================================================\n",
      "name of job: UI/UX Designer, salary: 面議（經常性薪資達4萬元）\n",
      "====================================================================================================\n",
      "name of job: Software Engineer, React Native, salary: 面議（經常性薪資達4萬元）\n",
      "====================================================================================================\n",
      "name of job: Software Engineer, Site Reliability Engineering, salary: 面議（經常性薪資達4萬元）\n",
      "====================================================================================================\n",
      "name of job: Software Engineer, iOS, salary: 面議（經常性薪資達4萬元）\n",
      "====================================================================================================\n",
      "name of job: 客戶體驗服務專員（韓文）, salary: 面議（經常性薪資達4萬元）\n",
      "====================================================================================================\n",
      "name of job: Software Engineer, Crypto Platform, salary: 面議（經常性薪資達4萬元）\n",
      "====================================================================================================\n",
      "name of job: Software Engineer, Backend Engineer (Sygna), salary: 面議（經常性薪資達4萬元）\n",
      "====================================================================================================\n",
      "name of job: Software Engineer Intern (12 months at least, can start within 1 month), salary: NT$ 180 - 180 (時薪)\n",
      "====================================================================================================\n",
      "name of job: Full-stack software engineer, salary: 面議（經常性薪資達4萬元）\n",
      "====================================================================================================\n",
      "name of job: [Data Sci] Director of Data Project Management , salary: 面議（經常性薪資達4萬元）\n",
      "====================================================================================================\n",
      "name of job: [Data Sci] Director of Data Product Management , salary: 面議（經常性薪資達4萬元）\n",
      "====================================================================================================\n",
      "name of job:  資料科學家 Data Scientist (Remote 远端工作）, salary: NT$ 120,000 - 190,000 (月薪)\n",
      "====================================================================================================\n",
      "name of job: [TW MKT] (Senior) Marketing Manager/ Director , salary: 面議（經常性薪資達4萬元）\n",
      "====================================================================================================\n",
      "name of job:  [Data Sci] Scala Backend Engineer (Data Product), salary: 面議（經常性薪資達4萬元）\n",
      "====================================================================================================\n",
      "name of job: Data Engineer (Remote 远端工作制）, salary: NT$ 80,000 - 140,000 (月薪)\n",
      "====================================================================================================\n",
      "name of job:  [HQ HR] Global HR Director, salary: 面議（經常性薪資達4萬元）\n",
      "====================================================================================================\n",
      "name of job: [AD RD] Sr. Data Scientist, salary: 面議（經常性薪資達4萬元）\n",
      "====================================================================================================\n",
      "name of job: [Data Sci] Data Analytics Engineer, salary: 面議（經常性薪資達4萬元）\n",
      "====================================================================================================\n",
      "name of job: [Data Sci] Senior Data Engineer, salary: 面議（經常性薪資達4萬元）\n",
      "====================================================================================================\n",
      "name of job: [Data Sci] Data Engineer(JP), salary: 面議（經常性薪資達4萬元）\n",
      "====================================================================================================\n",
      "name of job: Strategic Project Manager(Process Re-engineering) 策略專案經理, salary: 面議（經常性薪資達4萬元）\n",
      "====================================================================================================\n",
      "name of job: Business Operation Specialist 商業營運專員, salary: NT$ 30,000 - 40,000 (月薪)\n",
      "====================================================================================================\n",
      "name of job: Product Manager 產品經理, salary: 面議（經常性薪資達4萬元）\n",
      "====================================================================================================\n",
      "name of job: Overseas Product Manager , salary: NT$ 70,000 - 120,000 (月薪)\n",
      "====================================================================================================\n",
      "name of job: [DI] 大數據 高級工程師, salary: 面議（經常性薪資達4萬元）\n",
      "====================================================================================================\n",
      "name of job: [DI] 大數據 工程師, salary: NT$ 30,000 - 40,000 (月薪)\n",
      "====================================================================================================\n",
      "name of job: 綠色數據科技領導品牌 Technical Product Manager, salary: 面議（經常性薪資達4萬元）\n",
      "====================================================================================================\n",
      "name of job: 8231 大數據平台產品管理師, salary: 面議（經常性薪資達4萬元）\n",
      "====================================================================================================\n",
      "name of job: 東南亞金融科技發展-數據工程師（數數發中心, DDT）, salary: NT$ 30,000 - 90,000 (月薪)\n",
      "====================================================================================================\n",
      "name of job: Lifestyle 事業部 ｜電商營運主管 (BU Leader) [台北], salary: 面議（經常性薪資達4萬元）\n",
      "====================================================================================================\n",
      "name of job: D&S 事業部 | FAN 國外業務專員 (FAN Account Executive) [豐原] , salary: NT$ 35,000 - 42,000 (月薪)\n",
      "====================================================================================================\n",
      "name of job: D&S 事業部 | LIGHTING 國外業務專員 (LIGHTING Account Executive) [豐原] , salary: NT$ 35,000 - 42,000 (月薪)\n",
      "====================================================================================================\n",
      "name of job: [可全遠端] (Intern) Backend / Big Data System Engineer, salary: NT$ 230 - 250 (時薪)\n",
      "====================================================================================================\n",
      "name of job: Front End Developer (Anti-Abuse), salary: 面議（經常性薪資達4萬元）\n",
      "====================================================================================================\n",
      "name of job: Spanish Localization Part-time, salary: NT$ 190 - 190 (時薪)\n",
      "====================================================================================================\n",
      "name of job: Spanish Localization & Market Research Intern, salary: NT$ 190 - 190 (時薪)\n",
      "====================================================================================================\n",
      "name of job: 知名跨國 AI MarTech 公司 技術總監 Lead Engineer, salary: 面議（經常性薪資達4萬元）\n",
      "====================================================================================================\n",
      "name of job: 線上售後服務技術專員, salary: NT$ 28,000 - 36,000 (月薪)\n",
      "====================================================================================================\n",
      "name of job: GOSHOP - 產品開發人員, salary: NT$ 35,000 - 50,000 (月薪)\n",
      "====================================================================================================\n",
      "name of job: 電商業務、通路推廣專員、地推, salary: NT$ 30,000 - 100,000 (月薪)\n",
      "====================================================================================================\n"
     ]
    }
   ],
   "source": [
    "for page in range(1, pages):\n",
    "    url = f\"https://www.yourator.co/api/v2/jobs?term[]={qItem}&page={page}\"\n",
    "    res = req.get(url)\n",
    "    data = json.loads(res.text)\n",
    "    jobs = data['jobs']\n",
    "    for job in jobs:\n",
    "        print(f\"name of job: {job['name']}, salary: {job['salary']}\")\n",
    "        print('=' * 100)\n",
    "    sleep(randint(1,3))"
   ]
  }
 ],
 "metadata": {
  "kernelspec": {
   "display_name": "Python 3 (ipykernel)",
   "language": "python",
   "name": "python3"
  },
  "language_info": {
   "codemirror_mode": {
    "name": "ipython",
    "version": 3
   },
   "file_extension": ".py",
   "mimetype": "text/x-python",
   "name": "python",
   "nbconvert_exporter": "python",
   "pygments_lexer": "ipython3",
   "version": "3.10.4"
  }
 },
 "nbformat": 4,
 "nbformat_minor": 5
}
